{
 "cells": [
  {
   "cell_type": "code",
   "execution_count": 2,
   "metadata": {},
   "outputs": [],
   "source": [
    "import numpy as np\n",
    "import h5py"
   ]
  },
  {
   "cell_type": "code",
   "execution_count": 3,
   "metadata": {},
   "outputs": [],
   "source": [
    "train = h5py.File(\"/Users/danielzeiberg/Documents/Human3.6/Processed/train_2D.h5\")\n",
    "train_01 = h5py.File(\"/Users/danielzeiberg/Documents/Human3.6/Processed/train_2D_down_sample_0.01.h5\")\n",
    "train_1 = h5py.File(\"/Users/danielzeiberg/Documents/Human3.6/Processed/train_2D_down_sample_0.1.h5\")\n",
    "train_5 = h5py.File(\"/Users/danielzeiberg/Documents/Human3.6/Processed/train_2D_down_sample_0.5.h5\")"
   ]
  },
  {
   "cell_type": "code",
   "execution_count": 4,
   "metadata": {},
   "outputs": [
    {
     "data": {
      "text/plain": [
       "(297788, 12, 16, 2)"
      ]
     },
     "execution_count": 4,
     "metadata": {},
     "output_type": "execute_result"
    }
   ],
   "source": [
    "train[\"input2d\"].shape"
   ]
  },
  {
   "cell_type": "code",
   "execution_count": 5,
   "metadata": {},
   "outputs": [
    {
     "data": {
      "text/plain": [
       "(2978, 12, 16, 2)"
      ]
     },
     "execution_count": 5,
     "metadata": {},
     "output_type": "execute_result"
    }
   ],
   "source": [
    "train_01[\"input2d\"].shape"
   ]
  },
  {
   "cell_type": "code",
   "execution_count": 7,
   "metadata": {},
   "outputs": [
    {
     "name": "stdout",
     "output_type": "stream",
     "text": [
      "action\n",
      "camera\n",
      "input2d\n",
      "inputId\n",
      "istrain\n",
      "subaction\n",
      "subject\n",
      "target2d\n",
      "targetId\n"
     ]
    }
   ],
   "source": [
    "for k in train_1.keys():\n",
    "    print(k)"
   ]
  },
  {
   "cell_type": "code",
   "execution_count": null,
   "metadata": {},
   "outputs": [],
   "source": []
  }
 ],
 "metadata": {
  "kernelspec": {
   "display_name": "Python 3",
   "language": "python",
   "name": "python3"
  },
  "language_info": {
   "codemirror_mode": {
    "name": "ipython",
    "version": 3
   },
   "file_extension": ".py",
   "mimetype": "text/x-python",
   "name": "python",
   "nbconvert_exporter": "python",
   "pygments_lexer": "ipython3",
   "version": "3.6.6"
  }
 },
 "nbformat": 4,
 "nbformat_minor": 2
}
