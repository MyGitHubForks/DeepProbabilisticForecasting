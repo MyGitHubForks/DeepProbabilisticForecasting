{
 "cells": [
  {
   "cell_type": "code",
   "execution_count": null,
   "metadata": {},
   "outputs": [],
   "source": [
    "import pandas as pd\n",
    "import numpy as np\n",
    "import torch\n",
    "import matplotlib.pyplot as plt\n",
    "import json\n",
    "import cProfile\n",
    "import re\n",
    "import time"
   ]
  },
  {
   "cell_type": "code",
   "execution_count": null,
   "metadata": {
    "code_folding": []
   },
   "outputs": [],
   "source": [
    "%run GetLossObj.ipynb"
   ]
  },
  {
   "cell_type": "code",
   "execution_count": null,
   "metadata": {},
   "outputs": [],
   "source": [
    "baseDir = \"../save/models/model55/\"\n",
    "# expData = torch.load(baseDir+\"experimentData.pth\")\n",
    "plotTrainReconLosses = torch.load(baseDir + \"plot_train_recon_losses\", map_location=\"cpu\")\n",
    "plotValReconLosses = torch.load(baseDir + \"plot_val_recon_losses\", map_location=\"cpu\")\n",
    "\n",
    "with open(baseDir + \"args.txt\") as f:\n",
    "    args = f.read()\n",
    "args = Bunch(json.loads(args))\n",
    "args.cuda = False\n",
    "args.no_cuda = True\n",
    "args._device = \"CPU\"\n",
    "args.dropout= 0.0\n",
    "if args.dataset == \"traffic\":\n",
    "    args.output_dim = args.x_dim\n",
    "else: #args.dataset == \"human\":\n",
    "    args.output_dim = args.x_dim * 2"
   ]
  },
  {
   "cell_type": "code",
   "execution_count": null,
   "metadata": {},
   "outputs": [],
   "source": [
    "print(args)"
   ]
  },
  {
   "cell_type": "code",
   "execution_count": null,
   "metadata": {},
   "outputs": [],
   "source": [
    "print(args.initial_lr, args.dataset)"
   ]
  },
  {
   "cell_type": "code",
   "execution_count": null,
   "metadata": {},
   "outputs": [],
   "source": [
    "dataDict = getDataLoaders(\"../../data/Traffic/Processed/trafficWithTime/\")\n"
   ]
  },
  {
   "cell_type": "code",
   "execution_count": null,
   "metadata": {},
   "outputs": [],
   "source": [
    "getlossobj = PostProcess(baseDir,args, dataDict=dataDict, chooseModel=\"sketch-rnn\")"
   ]
  },
  {
   "cell_type": "code",
   "execution_count": null,
   "metadata": {},
   "outputs": [],
   "source": [
    "print(\"min val loss: {:.4f} at idx {}\".format(np.min(plotValReconLosses), np.argmin(plotValReconLosses)))"
   ]
  },
  {
   "cell_type": "code",
   "execution_count": null,
   "metadata": {},
   "outputs": [],
   "source": [
    "valRetVals = getlossobj.getLossAtEpoch(\"sketch-rnn_full_model.pth\", \"val\")"
   ]
  },
  {
   "cell_type": "code",
   "execution_count": null,
   "metadata": {},
   "outputs": [],
   "source": [
    "valRetVals.keys()"
   ]
  },
  {
   "cell_type": "code",
   "execution_count": null,
   "metadata": {},
   "outputs": [],
   "source": [
    "valRetVals[\"Mu\"].shape"
   ]
  },
  {
   "cell_type": "code",
   "execution_count": null,
   "metadata": {},
   "outputs": [],
   "source": [
    "trainRetVals = getlossobj.getLossAtEpoch(\"sketch-rnn_full_model.pth\", \"train\")"
   ]
  },
  {
   "cell_type": "code",
   "execution_count": null,
   "metadata": {},
   "outputs": [],
   "source": [
    "testRetVals = getlossobj.getLossAtEpoch(\"sketch-rnn_full_model.pth\", \"test\")"
   ]
  },
  {
   "cell_type": "code",
   "execution_count": null,
   "metadata": {},
   "outputs": [],
   "source": [
    "print(\"train: {:.4f}, val: {:.4f}, test: {:.4f}\".format(trainRetVals[\"reconLoss\"],valRetVals[\"reconLoss\"], testRetVals[\"reconLoss\"]))"
   ]
  },
  {
   "cell_type": "code",
   "execution_count": null,
   "metadata": {},
   "outputs": [],
   "source": [
    "def getPredictions(Pi, Mu, Sigma, reps=100):\n",
    "    preds = []\n",
    "    for i in range(reps):\n",
    "        pred = getlossobj.model.generatePred(Pi, Mu, Sigma, individual=True)\n",
    "        preds.append(getlossobj.dataDict[\"scaler\"].inverse_transform(pred, permute=False))\n",
    "    predsStack = torch.stack(preds, dim=0)\n",
    "    mean = torch.mean(predsStack,dim=0)\n",
    "    std = torch.std(predsStack, dim=0)\n",
    "    return mean, std\n",
    "    "
   ]
  },
  {
   "cell_type": "code",
   "execution_count": null,
   "metadata": {
    "code_folding": []
   },
   "outputs": [],
   "source": [
    "def plotRandomInstance(mean, std,targets, datas, dataset, instance, sensor):\n",
    "    t = targets[instance, :, sensor]\n",
    "    d = datas[instance, :, sensor]\n",
    "    plt.plot(range(5,65, 5),mean, label=\"Pred\")\n",
    "    plt.fill_between(range(5,65, 5),mean-1.96*std, mean+1.96*std, alpha=0.25)\n",
    "    plt.plot(range(5,65, 5),t, label=\"target\")\n",
    "    plt.plot(range(-55,5, 5), d, label=\"input\")\n",
    "    plt.legend()\n",
    "    plt.xlabel(\"Minutes relative to prediction time\")\n",
    "    plt.ylabel(\"Speed (mph)\")\n",
    "    plt.title(\"random sensor sample {}\".format(dataset))\n",
    "    plt.show()"
   ]
  },
  {
   "cell_type": "code",
   "execution_count": null,
   "metadata": {},
   "outputs": [],
   "source": [
    "instance = np.random.randint(trainRetVals[\"datas\"].shape[0])\n",
    "sensor = np.random.randint(trainRetVals[\"datas\"].shape[2])\n",
    "PiT = torch.from_numpy(trainRetVals[\"Pi\"][:,instance, sensor,:])\n",
    "MuT = torch.from_numpy(trainRetVals[\"Mu\"][:,instance, sensor,:])\n",
    "SigmaT = torch.from_numpy(trainRetVals[\"Sigma\"][:,instance, sensor,:])\n",
    "mean, std = getPredictions(PiT, MuT, SigmaT, reps=100)\n",
    "plotRandomInstance(mean.data.numpy(), std.data.numpy(), trainRetVals[\"targets\"], trainRetVals[\"datas\"], \"Train\", instance, sensor)"
   ]
  },
  {
   "cell_type": "code",
   "execution_count": null,
   "metadata": {},
   "outputs": [],
   "source": [
    "instance = np.random.randint(valRetVals[\"datas\"].shape[0])\n",
    "sensor = np.random.randint(valRetVals[\"datas\"].shape[2])\n",
    "PiT = torch.from_numpy(valRetVals[\"Pi\"][:,instance, sensor,:])\n",
    "MuT = torch.from_numpy(valRetVals[\"Mu\"][:,instance, sensor,:])\n",
    "SigmaT = torch.from_numpy(valRetVals[\"Sigma\"][:,instance, sensor,:])\n",
    "mean, std = getPredictions(PiT, MuT, SigmaT, reps=100)\n",
    "plotRandomInstance(mean.data.numpy(), std.data.numpy(), valRetVals[\"targets\"], valRetVals[\"datas\"], \"Validation\", instance, sensor)"
   ]
  },
  {
   "cell_type": "code",
   "execution_count": null,
   "metadata": {},
   "outputs": [],
   "source": [
    "instance = np.random.randint(testRetVals[\"datas\"].shape[0])\n",
    "sensor = np.random.randint(testRetVals[\"datas\"].shape[2])\n",
    "PiT = torch.from_numpy(testRetVals[\"Pi\"][:,instance, sensor,:])\n",
    "MuT = torch.from_numpy(testRetVals[\"Mu\"][:,instance, sensor,:])\n",
    "SigmaT = torch.from_numpy(testRetVals[\"Sigma\"][:,instance, sensor,:])\n",
    "mean, std = getPredictions(PiT, MuT, SigmaT, reps=100)\n",
    "plotRandomInstance(mean.data.numpy(), std.data.numpy(), testRetVals[\"targets\"], testRetVals[\"datas\"], \"Test\", instance, sensor)"
   ]
  },
  {
   "cell_type": "code",
   "execution_count": null,
   "metadata": {},
   "outputs": [],
   "source": [
    "total = 0\n",
    "for p in getlossobj.model.parameters():\n",
    "    total += np.prod(p.shape)\n",
    "print(total)"
   ]
  },
  {
   "cell_type": "code",
   "execution_count": null,
   "metadata": {},
   "outputs": [],
   "source": [
    "plotTrainValCurve(plotTrainReconLosses[:50], plotValReconLosses[:50])"
   ]
  },
  {
   "cell_type": "code",
   "execution_count": null,
   "metadata": {},
   "outputs": [],
   "source": [
    "next(iter(getlossobj.model.parameters())).is_cuda"
   ]
  },
  {
   "cell_type": "code",
   "execution_count": null,
   "metadata": {},
   "outputs": [],
   "source": [
    "for name, p in getlossobj.model.named_parameters():\n",
    "    if bias in \n",
    "    print(name)"
   ]
  },
  {
   "cell_type": "code",
   "execution_count": null,
   "metadata": {},
   "outputs": [],
   "source": []
  }
 ],
 "metadata": {
  "kernelspec": {
   "display_name": "Python 3",
   "language": "python",
   "name": "python3"
  },
  "language_info": {
   "codemirror_mode": {
    "name": "ipython",
    "version": 3
   },
   "file_extension": ".py",
   "mimetype": "text/x-python",
   "name": "python",
   "nbconvert_exporter": "python",
   "pygments_lexer": "ipython3",
   "version": "3.6.6"
  }
 },
 "nbformat": 4,
 "nbformat_minor": 2
}
