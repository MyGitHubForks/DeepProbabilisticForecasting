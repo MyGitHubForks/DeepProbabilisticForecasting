{
 "cells": [
  {
   "cell_type": "code",
   "execution_count": null,
   "metadata": {},
   "outputs": [],
   "source": [
    "import pandas as pd\n",
    "import numpy as np\n",
    "import torch\n",
    "import matplotlib.pyplot as plt\n",
    "import json\n",
    "import cProfile\n",
    "import re\n",
    "import time"
   ]
  },
  {
   "cell_type": "code",
   "execution_count": null,
   "metadata": {
    "code_folding": []
   },
   "outputs": [],
   "source": [
    "%run GetLossObj.ipynb"
   ]
  },
  {
   "cell_type": "code",
   "execution_count": null,
   "metadata": {},
   "outputs": [],
   "source": [
    "baseDir = \"../save/local/models/model40/\"\n",
    "# expData = torch.load(baseDir+\"experimentData.pth\")\n",
    "# plotTrainReconLosses = torch.load(baseDir + \"plot_train_recon_losses\", map_location=\"cpu\")\n",
    "# plotValReconLosses = torch.load(baseDir + \"plot_val_recon_losses\", map_location=\"cpu\")\n",
    "# plotTrainKldLosses = torch.load(baseDir + \"plot_train_KLD_losses\", map_location=\"cpu\")\n",
    "# plotValKldLosses = torch.load(baseDir + \"plot_val_KLD_losses\", map_location=\"cpu\")\n",
    "with open(baseDir + \"args.txt\") as f:\n",
    "    args = f.read()\n",
    "args = Bunch(json.loads(args))\n",
    "args.cuda = False\n",
    "args.no_cuda = True\n",
    "args._device = \"CPU\"\n",
    "args.dropout= 0.0\n",
    "if args.dataset == \"traffic\":\n",
    "    args.output_dim = args.x_dim\n",
    "else: #args.dataset == \"human\":\n",
    "    args.output_dim = args.x_dim * 2"
   ]
  },
  {
   "cell_type": "code",
   "execution_count": null,
   "metadata": {},
   "outputs": [],
   "source": [
    "print(args)"
   ]
  },
  {
   "cell_type": "code",
   "execution_count": null,
   "metadata": {},
   "outputs": [],
   "source": [
    "print(args.initial_lr, args.dataset)"
   ]
  },
  {
   "cell_type": "code",
   "execution_count": null,
   "metadata": {},
   "outputs": [],
   "source": [
    "dataDir = \"../../data/Traffic/Processed/trafficWithTime/\"\n",
    "\n"
   ]
  },
  {
   "cell_type": "code",
   "execution_count": null,
   "metadata": {},
   "outputs": [],
   "source": [
    "dataDict = getDataLoaders(dataDir)"
   ]
  },
  {
   "cell_type": "code",
   "execution_count": null,
   "metadata": {},
   "outputs": [],
   "source": [
    "def getPredictions(Pi, Mu, Sigma, reps=100):\n",
    "    preds = []\n",
    "    for i in range(reps):\n",
    "        pred = getlossobj.model.generatePred(Pi, Mu, Sigma, individual=True)\n",
    "        preds.append(getlossobj.dataDict[\"scaler\"].inverse_transform(pred, permute=False))\n",
    "    predsStack = torch.stack(preds, dim=0)\n",
    "    mean = torch.mean(predsStack,dim=0)\n",
    "    std = torch.std(predsStack, dim=0)\n",
    "    return mean, std\n",
    "    "
   ]
  },
  {
   "cell_type": "code",
   "execution_count": null,
   "metadata": {
    "code_folding": []
   },
   "outputs": [],
   "source": [
    "def plotRandomInstance(mean, std,targets, datas, dataset, instance, sensor):\n",
    "    t = targets[instance, :, sensor]\n",
    "    d = datas[instance, :, sensor]\n",
    "    plt.plot(range(5,65, 5),mean, label=\"Pred\")\n",
    "    plt.fill_between(range(5,65, 5),mean-1.96*std, mean+1.96*std, alpha=0.25)\n",
    "    plt.plot(range(5,65, 5),t, label=\"target\")\n",
    "    plt.plot(range(-55,5, 5), d, label=\"input\")\n",
    "    plt.legend()\n",
    "    plt.xlabel(\"Minutes relative to prediction time\")\n",
    "    plt.ylabel(\"Speed (mph)\")\n",
    "    plt.title(\"random sensor sample {}\".format(dataset))\n",
    "    plt.show()"
   ]
  },
  {
   "cell_type": "code",
   "execution_count": null,
   "metadata": {},
   "outputs": [],
   "source": [
    "getlossobj = PostProcess(baseDir,args, dataDict=dataDict, chooseModel=\"sketch-rnn\")\n",
    "getlossobj.prep(\"sketch-rnn_full_model.pth\", \"train\", 0)"
   ]
  },
  {
   "cell_type": "code",
   "execution_count": null,
   "metadata": {},
   "outputs": [],
   "source": [
    "(inputData, target) = next(map(dataDict[\"scaler\"].transformBatchForEpoch, dataDict[\"train\"]))\n",
    "indexIntoDir += 1\n",
    "output = getlossobj.model(inputData, target, 0)\n",
    "Pi, Mu, Sigma, latentMean, latentStd = output\n",
    "Pi = Pi.cpu().detach()\n",
    "Mu = Mu.cpu().detach()\n",
    "Sigma = Sigma.cpu().detach()\n",
    "latentMean = latentMean.cpu().detach()\n",
    "latentStd = latentStd.cpu().detach()\n",
    "instance = np.random.randint(Pi.shape[1])\n",
    "sensor = np.random.randint(Pi.shape[2])\n",
    "# Pi = Pi[:,instance, sensor,:]\n",
    "# Mu = Mu[:,instance, sensor,:]\n",
    "# Sigma = Sigma[:,instance, sensor,:]\n",
    "target = dataDict[\"scaler\"].inverse_transform(target)\n",
    "inputData = dataDict[\"scaler\"].inverse_transform(inputData[:,:,0,:])\n",
    "mean, std = getPredictions(Pi[:,instance, sensor,:], Mu[:,instance, sensor,:], Sigma[:,instance, sensor,:])\n",
    "plotRandomInstance(mean.numpy(), std.numpy(), target.numpy(), inputData.numpy(),\"train\", instance, sensor)"
   ]
  },
  {
   "cell_type": "code",
   "execution_count": null,
   "metadata": {},
   "outputs": [],
   "source": [
    "trainRetVals = getlossobj.getLossAtEpoch(\"sketch-rnn_full_model.pth\", \"train\")\n"
   ]
  },
  {
   "cell_type": "code",
   "execution_count": null,
   "metadata": {},
   "outputs": [],
   "source": [
    "valRetVals = getlossobj.getLossAtEpoch(\"sketch-rnn_full_model.pth\", \"val\")"
   ]
  },
  {
   "cell_type": "code",
   "execution_count": null,
   "metadata": {},
   "outputs": [],
   "source": [
    "testRetVals = getlossobj.getLossAtEpoch(\"sketch-rnn_full_model.pth\", \"test\")"
   ]
  },
  {
   "cell_type": "code",
   "execution_count": null,
   "metadata": {},
   "outputs": [],
   "source": [
    "print(\"train: {:.4f}, val: {:.4f}, test: {:.4f}\".format(trainRetVals[\"reconLoss\"],valRetVals[\"reconLoss\"], testRetVals[\"reconLoss\"]))"
   ]
  },
  {
   "cell_type": "code",
   "execution_count": null,
   "metadata": {},
   "outputs": [],
   "source": [
    "inputData.shape"
   ]
  },
  {
   "cell_type": "code",
   "execution_count": null,
   "metadata": {},
   "outputs": [],
   "source": [
    "instance = np.random.randint(trainRetVals[\"datas\"].shape[0])\n",
    "sensor = np.random.randint(trainRetVals[\"datas\"].shape[2])\n",
    "PiT = torch.from_numpy(trainRetVals[\"Pi\"][:,instance, sensor,:])\n",
    "MuT = torch.from_numpy(trainRetVals[\"Mu\"][:,instance, sensor,:])\n",
    "SigmaT = torch.from_numpy(trainRetVals[\"Sigma\"][:,instance, sensor,:])\n",
    "mean, std = getPredictions(PiT, MuT, SigmaT, reps=100)\n",
    "plotRandomInstance(mean.data.numpy(), std.data.numpy(), trainRetVals[\"targets\"], trainRetVals[\"datas\"], \"Train\", instance, sensor)"
   ]
  },
  {
   "cell_type": "code",
   "execution_count": null,
   "metadata": {},
   "outputs": [],
   "source": [
    "instance = np.random.randint(valRetVals[\"datas\"].shape[0])\n",
    "sensor = np.random.randint(valRetVals[\"datas\"].shape[2])\n",
    "PiT = torch.from_numpy(valRetVals[\"Pi\"][:,instance, sensor,:])\n",
    "MuT = torch.from_numpy(valRetVals[\"Mu\"][:,instance, sensor,:])\n",
    "SigmaT = torch.from_numpy(valRetVals[\"Sigma\"][:,instance, sensor,:])\n",
    "mean, std = getPredictions(PiT, MuT, SigmaT, reps=100)\n",
    "plotRandomInstance(mean.data.numpy(), std.data.numpy(), valRetVals[\"targets\"], valRetVals[\"datas\"], \"Validation\", instance, sensor)"
   ]
  },
  {
   "cell_type": "code",
   "execution_count": null,
   "metadata": {},
   "outputs": [],
   "source": [
    "instance = np.random.randint(testRetVals[\"datas\"].shape[0])\n",
    "sensor = np.random.randint(testRetVals[\"datas\"].shape[2])\n",
    "PiT = torch.from_numpy(testRetVals[\"Pi\"][:,instance, sensor,:])\n",
    "MuT = torch.from_numpy(testRetVals[\"Mu\"][:,instance, sensor,:])\n",
    "SigmaT = torch.from_numpy(testRetVals[\"Sigma\"][:,instance, sensor,:])\n",
    "mean, std = getPredictions(PiT, MuT, SigmaT, reps=100)\n",
    "plotRandomInstance(mean.data.numpy(), std.data.numpy(), testRetVals[\"targets\"], testRetVals[\"datas\"], \"Test\", instance, sensor)"
   ]
  },
  {
   "cell_type": "code",
   "execution_count": null,
   "metadata": {},
   "outputs": [],
   "source": [
    "total = 0\n",
    "for p in getlossobj.model.parameters():\n",
    "    total += np.prod(p.shape)\n",
    "print(total)"
   ]
  },
  {
   "cell_type": "code",
   "execution_count": null,
   "metadata": {},
   "outputs": [],
   "source": [
    "plotTrainValCurve(plotTrainReconLosses, plotValReconLosses, plotTrainKldLosses, plotValKldLosses)"
   ]
  },
  {
   "cell_type": "code",
   "execution_count": null,
   "metadata": {},
   "outputs": [],
   "source": [
    "plotTrainValCurve(np.array(plotTrainReconLosses) + np.array(plotTrainKldLosses), np.array(plotValReconLosses) + np.array(plotValKldLosses), labelTotal=True)"
   ]
  },
  {
   "cell_type": "code",
   "execution_count": null,
   "metadata": {},
   "outputs": [],
   "source": [
    "next(iter(getlossobj.model.parameters())).is_cuda"
   ]
  },
  {
   "cell_type": "code",
   "execution_count": null,
   "metadata": {},
   "outputs": [],
   "source": [
    "for name, p in getlossobj.model.named_parameters():\n",
    "    if bias in \n",
    "    print(name)"
   ]
  },
  {
   "cell_type": "code",
   "execution_count": null,
   "metadata": {},
   "outputs": [],
   "source": []
  }
 ],
 "metadata": {
  "kernelspec": {
   "display_name": "Python 3",
   "language": "python",
   "name": "python3"
  },
  "language_info": {
   "codemirror_mode": {
    "name": "ipython",
    "version": 3
   },
   "file_extension": ".py",
   "mimetype": "text/x-python",
   "name": "python",
   "nbconvert_exporter": "python",
   "pygments_lexer": "ipython3",
   "version": "3.6.6"
  },
  "varInspector": {
   "cols": {
    "lenName": 16,
    "lenType": 16,
    "lenVar": 40
   },
   "kernels_config": {
    "python": {
     "delete_cmd_postfix": "",
     "delete_cmd_prefix": "del ",
     "library": "var_list.py",
     "varRefreshCmd": "print(var_dic_list())"
    },
    "r": {
     "delete_cmd_postfix": ") ",
     "delete_cmd_prefix": "rm(",
     "library": "var_list.r",
     "varRefreshCmd": "cat(var_dic_list()) "
    }
   },
   "types_to_exclude": [
    "module",
    "function",
    "builtin_function_or_method",
    "instance",
    "_Feature"
   ],
   "window_display": false
  }
 },
 "nbformat": 4,
 "nbformat_minor": 2
}
