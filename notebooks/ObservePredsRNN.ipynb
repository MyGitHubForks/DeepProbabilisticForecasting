{
 "cells": [
  {
   "cell_type": "code",
   "execution_count": null,
   "metadata": {},
   "outputs": [],
   "source": [
    "import pandas as pd\n",
    "import numpy as np\n",
    "import torch\n",
    "import matplotlib.pyplot as plt\n",
    "import json"
   ]
  },
  {
   "cell_type": "code",
   "execution_count": null,
   "metadata": {
    "code_folding": []
   },
   "outputs": [],
   "source": [
    "%run GetLossObj.ipynb"
   ]
  },
  {
   "cell_type": "code",
   "execution_count": null,
   "metadata": {},
   "outputs": [],
   "source": [
    "baseDir = \"../save/Final/Traffic/RNN/server1-model23/\"\n",
    "# expData = torch.load(baseDir+\"experimentData.pth\")\n",
    "plotTrainReconLosses = torch.load(baseDir + \"plot_train_recon_losses\", map_location=\"cpu\")\n",
    "plotValReconLosses = torch.load(baseDir + \"plot_val_recon_losses\", map_location=\"cpu\")\n",
    "with open(baseDir + \"args.txt\") as f:\n",
    "    args = f.read()\n",
    "args = Bunch(json.loads(args))\n",
    "args.no_cuda = True\n",
    "args.cuda = False\n",
    "args.dropout= 0.0\n",
    "if args.dataset == \"traffic\":\n",
    "    args.output_dim = args.x_dim\n",
    "else: #args.dataset == \"human\":\n",
    "    args.output_dim = args.x_dim * 2\n",
    "args.input_sequence_len = args.sequence_len\n",
    "args.target_sequence_len = args.sequence_len"
   ]
  },
  {
   "cell_type": "code",
   "execution_count": null,
   "metadata": {},
   "outputs": [],
   "source": [
    "print(args)"
   ]
  },
  {
   "cell_type": "code",
   "execution_count": null,
   "metadata": {},
   "outputs": [],
   "source": [
    "print(args.initial_lr, args.dataset)"
   ]
  },
  {
   "cell_type": "code",
   "execution_count": null,
   "metadata": {},
   "outputs": [],
   "source": [
    "dataDict = getDataLoaders(\"/Users/danielzeiberg/Data/Traffic/Processed/trafficWithTime/\")\n"
   ]
  },
  {
   "cell_type": "code",
   "execution_count": null,
   "metadata": {},
   "outputs": [],
   "source": [
    "getlossobj = PostProcess(baseDir,args, dataDict=dataDict, chooseModel=\"rnn\")"
   ]
  },
  {
   "cell_type": "code",
   "execution_count": null,
   "metadata": {},
   "outputs": [],
   "source": [
    "print(\"min val loss: {:.4f} at idx {}\".format(np.min(plotValReconLosses), np.argmin(plotValReconLosses)))"
   ]
  },
  {
   "cell_type": "code",
   "execution_count": null,
   "metadata": {},
   "outputs": [],
   "source": [
    "valRetVals = getlossobj.getLossAtEpoch(\"rnn_full_model.pth\", \"val\")"
   ]
  },
  {
   "cell_type": "code",
   "execution_count": null,
   "metadata": {},
   "outputs": [],
   "source": [
    "trainRetVals = getlossobj.getLossAtEpoch(\"rnn_full_model.pth\", \"train\")"
   ]
  },
  {
   "cell_type": "code",
   "execution_count": null,
   "metadata": {},
   "outputs": [],
   "source": [
    "testRetVals = getlossobj.getLossAtEpoch(\"rnn_full_model.pth\", \"test\")"
   ]
  },
  {
   "cell_type": "code",
   "execution_count": null,
   "metadata": {},
   "outputs": [],
   "source": [
    "for k, v in testRetVals[\"reconLosses\"].items():\n",
    "    print(5 + 5*k, v)"
   ]
  },
  {
   "cell_type": "code",
   "execution_count": null,
   "metadata": {},
   "outputs": [],
   "source": [
    "print(\"train: {:.4f}, val: {:.4f}, test: {:.4f}\".format(trainRetVals[\"reconLoss\"],valRetVals[\"reconLoss\"], testRetVals[\"reconLoss\"]))"
   ]
  },
  {
   "cell_type": "code",
   "execution_count": null,
   "metadata": {
    "code_folding": []
   },
   "outputs": [],
   "source": [
    "def plotRandomInstance(preds,targets, datas, dataset):\n",
    "    instance = np.random.randint(datas.shape[0])\n",
    "    sensor = np.random.randint(datas.shape[2])\n",
    "    p = preds[instance, :, sensor]\n",
    "    t = targets[instance, :, sensor]\n",
    "    d = datas[instance, :, sensor]\n",
    "    plt.plot(range(5,65, 5),p, label=\"Pred\")\n",
    "    #plt.fill_between(range(0,60, 5),m-1.96*std, m+1.96*std)\n",
    "    plt.plot(range(5,65, 5),t, label=\"target\")\n",
    "    plt.plot(range(-55,5, 5), d, label=\"input\")\n",
    "    plt.legend()\n",
    "    plt.xlabel(\"Minutes relative to prediction time\")\n",
    "    plt.ylabel(\"Speed (mph)\")\n",
    "    plt.title(\"random sensor sample {}\".format(dataset))\n",
    "    plt.show()"
   ]
  },
  {
   "cell_type": "code",
   "execution_count": null,
   "metadata": {},
   "outputs": [],
   "source": [
    "plotRandomInstance(trainRetVals[\"preds\"], trainRetVals[\"targets\"], trainRetVals[\"datas\"], \"Train\")"
   ]
  },
  {
   "cell_type": "code",
   "execution_count": null,
   "metadata": {},
   "outputs": [],
   "source": [
    "plotRandomInstance(valRetVals[\"preds\"], valRetVals[\"targets\"], valRetVals[\"datas\"], \"Validation\")"
   ]
  },
  {
   "cell_type": "code",
   "execution_count": null,
   "metadata": {},
   "outputs": [],
   "source": [
    "plotRandomInstance(testRetVals[\"preds\"], testRetVals[\"targets\"], testRetVals[\"datas\"], \"Test\")"
   ]
  },
  {
   "cell_type": "code",
   "execution_count": null,
   "metadata": {},
   "outputs": [],
   "source": [
    "total = 0\n",
    "for p in getlossObj.model.parameters():\n",
    "    total += np.prod(p.shape)\n",
    "print(total)"
   ]
  },
  {
   "cell_type": "code",
   "execution_count": null,
   "metadata": {},
   "outputs": [],
   "source": [
    "print(getlossObj.dataDict[\"train_mean\"], getlossObj.dataDict[\"val_mean\"], getlossObj.dataDict[\"train_std\"], getlossObj.dataDict[\"val_std\"])"
   ]
  },
  {
   "cell_type": "code",
   "execution_count": null,
   "metadata": {},
   "outputs": [],
   "source": [
    "plt.plot(np.sqrt(np.mean((predsVal - targetsVal)**2, axis=(1,2))))\n",
    "ticks = plt.xticks(np.arange(0,12), np.arange(5,13*5, 5))\n",
    "plt.xlabel(\"Minutes after prediction time\")\n",
    "plt.ylabel(\"RMSE\")\n"
   ]
  },
  {
   "cell_type": "code",
   "execution_count": null,
   "metadata": {},
   "outputs": [],
   "source": [
    "plotTrainValCurve(plotTrainReconLosses, plotValReconLosses)"
   ]
  },
  {
   "cell_type": "code",
   "execution_count": null,
   "metadata": {},
   "outputs": [],
   "source": [
    "next(iter(getlossobj.model.parameters())).is_cuda"
   ]
  },
  {
   "cell_type": "code",
   "execution_count": null,
   "metadata": {},
   "outputs": [],
   "source": [
    "for name, p in getlossobj.model.named_parameters():\n",
    "    if bias in \n",
    "    print(name)"
   ]
  },
  {
   "cell_type": "code",
   "execution_count": null,
   "metadata": {},
   "outputs": [],
   "source": []
  }
 ],
 "metadata": {
  "kernelspec": {
   "display_name": "Python 3",
   "language": "python",
   "name": "python3"
  },
  "language_info": {
   "codemirror_mode": {
    "name": "ipython",
    "version": 3
   },
   "file_extension": ".py",
   "mimetype": "text/x-python",
   "name": "python",
   "nbconvert_exporter": "python",
   "pygments_lexer": "ipython3",
   "version": "3.6.6"
  }
 },
 "nbformat": 4,
 "nbformat_minor": 2
}
