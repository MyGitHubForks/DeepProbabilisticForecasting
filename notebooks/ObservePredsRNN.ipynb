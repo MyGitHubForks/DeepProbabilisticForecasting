{
 "cells": [
  {
   "cell_type": "code",
   "execution_count": 2,
   "metadata": {},
   "outputs": [],
   "source": [
    "import pandas as pd\n",
    "import numpy as np\n",
    "import torch\n",
    "import matplotlib.pyplot as plt\n",
    "import json"
   ]
  },
  {
   "cell_type": "code",
   "execution_count": 3,
   "metadata": {
    "code_folding": []
   },
   "outputs": [],
   "source": [
    "%run GetLossObj.ipynb"
   ]
  },
  {
   "cell_type": "code",
   "execution_count": 4,
   "metadata": {},
   "outputs": [],
   "source": [
    "baseDir = \"../save/server1/rnn/model23/\"\n",
    "# expData = torch.load(baseDir+\"experimentData.pth\")\n",
    "plotTrainReconLosses = torch.load(baseDir + \"plot_train_recon_losses\", map_location=\"cpu\")\n",
    "plotValReconLosses = torch.load(baseDir + \"plot_val_recon_losses\", map_location=\"cpu\")\n",
    "with open(baseDir + \"args.txt\") as f:\n",
    "    args = f.read()"
   ]
  },
  {
   "cell_type": "code",
   "execution_count": 5,
   "metadata": {},
   "outputs": [
    {
     "data": {
      "text/plain": [
       "'{\"h_dim\": 256, \"z_dim\": 0, \"no_cuda\": false, \"no_attn\": true, \"n_epochs\": 200, \"batch_size\": 64, \"n_layers\": 2, \"initial_lr\": 0.0001, \"lr_decay_every\": 10, \"lr_decay_factor\": 0.1, \"lr_decay_beginning\": 20, \"print_every\": 1, \"criterion\": \"L1Loss\", \"save_freq\": 10, \"down_sample\": 0.0, \"model\": \"rnn\", \"lambda_l1\": 0, \"lambda_l2\": 0.0005, \"no_schedule_sampling\": false, \"scheduling_start\": 1.0, \"scheduling_end\": 0.0, \"tries\": 12, \"kld_warmup_until\": 5, \"kld_weight_max\": 0.1, \"no_shuffle_after_epoch\": false, \"clip\": 10, \"dataset\": \"traffic\", \"predictOnTest\": true, \"encoder_input_dropout\": 0.5, \"encoder_layer_dropout\": 0.5, \"decoder_input_dropout\": 0.5, \"decoder_layer_dropout\": 0.5, \"noEarlyStopping\": false, \"earlyStoppingPatients\": 3, \"earlyStoppingMinDelta\": 0.0001, \"bidirectionalEncoder\": true, \"local\": false, \"cuda\": true, \"_device\": \"cuda\", \"use_attn\": false, \"use_schedule_sampling\": true, \"x_dim\": 207, \"sequence_len\": 12, \"channels\": 2, \"save_dir\": \"../save/models/model23/\"}'"
      ]
     },
     "execution_count": 5,
     "metadata": {},
     "output_type": "execute_result"
    }
   ],
   "source": [
    "args"
   ]
  },
  {
   "cell_type": "code",
   "execution_count": 6,
   "metadata": {},
   "outputs": [],
   "source": [
    "args = Bunch(json.loads(args))\n",
    "args.cuda = False"
   ]
  },
  {
   "cell_type": "code",
   "execution_count": 7,
   "metadata": {
    "scrolled": true
   },
   "outputs": [
    {
     "name": "stderr",
     "output_type": "stream",
     "text": [
      "INFO:root:Getting loaders\n",
      "INFO:root:Getting train loader\n",
      "INFO:root:Getting val loader\n",
      "INFO:root:Getting test loader\n"
     ]
    }
   ],
   "source": [
    "dataDict = getDataLoaders(\"../data/traffic/trafficWithTime/\")"
   ]
  },
  {
   "cell_type": "code",
   "execution_count": 8,
   "metadata": {},
   "outputs": [],
   "source": [
    "getlossobj = PostProcess(baseDir, dataDict=dataDict, chooseModel=\"rnn\")"
   ]
  },
  {
   "cell_type": "code",
   "execution_count": 22,
   "metadata": {},
   "outputs": [
    {
     "name": "stdout",
     "output_type": "stream",
     "text": [
      "min val loss: 4.7256 at idx 52\n"
     ]
    }
   ],
   "source": [
    "print(\"min val loss: {:.4f} at idx {}\".format(np.min(plotValReconLosses), np.argmin(plotValReconLosses)))"
   ]
  },
  {
   "cell_type": "code",
   "execution_count": 23,
   "metadata": {},
   "outputs": [
    {
     "data": {
      "text/plain": [
       "[4.766678146033917,\n",
       " 5.069510001337753,\n",
       " 4.809154889212464,\n",
       " 4.7754563956328155,\n",
       " 4.725637012776339,\n",
       " 4.9462350067102685]"
      ]
     },
     "execution_count": 23,
     "metadata": {},
     "output_type": "execute_result"
    }
   ],
   "source": [
    "plotValReconLosses[48:54]"
   ]
  },
  {
   "cell_type": "code",
   "execution_count": 26,
   "metadata": {
    "scrolled": false
   },
   "outputs": [],
   "source": [
    "valRetVals = getlossobj.getLossAtEpoch(\"rnn_state_dict_50.pth\", \"val\")"
   ]
  },
  {
   "cell_type": "code",
   "execution_count": 27,
   "metadata": {},
   "outputs": [],
   "source": [
    "trainRetVals = getlossobj.getLossAtEpoch(\"rnn_state_dict_50.pth\", \"train\")"
   ]
  },
  {
   "cell_type": "code",
   "execution_count": 24,
   "metadata": {},
   "outputs": [],
   "source": [
    "testRetVals = getlossobj.getLossAtEpoch(\"rnn_state_dict_50.pth\", \"test\")"
   ]
  },
  {
   "cell_type": "code",
   "execution_count": 28,
   "metadata": {},
   "outputs": [
    {
     "name": "stdout",
     "output_type": "stream",
     "text": [
      "train: 3.6788, val: 4.8091, test: 5.9371\n"
     ]
    }
   ],
   "source": [
    "print(\"train: {:.4f}, val: {:.4f}, test: {:.4f}\".format(trainRetVals[\"L1Loss\"],valRetVals[\"L1Loss\"], testRetVals[\"L1Loss\"]))"
   ]
  },
  {
   "cell_type": "code",
   "execution_count": 16,
   "metadata": {},
   "outputs": [],
   "source": [
    "def plotRandomInstance(preds,targets, datas, dataset):\n",
    "    instance = np.random.randint(datas.shape[0])\n",
    "    sensor = np.random.randint(datas.shape[2])\n",
    "    p = preds[instance, :, sensor]\n",
    "    t = targets[instance, :, sensor]\n",
    "    d = datas[instance, :, sensor]\n",
    "    plt.plot(range(5,65, 5),p, label=\"Pred\")\n",
    "    #plt.fill_between(range(0,60, 5),m-1.96*std, m+1.96*std)\n",
    "    plt.plot(range(5,65, 5),t, label=\"target\")\n",
    "    plt.plot(range(-55,5, 5), d, label=\"input\")\n",
    "    plt.legend()\n",
    "    plt.xlabel(\"Minutes relative to prediction time\")\n",
    "    plt.ylabel(\"Speed (mph)\")\n",
    "    plt.title(\"random sensor sample {}\".format(dataset))\n",
    "    plt.show()"
   ]
  },
  {
   "cell_type": "code",
   "execution_count": 17,
   "metadata": {},
   "outputs": [
    {
     "ename": "NameError",
     "evalue": "name 'trainRetVals' is not defined",
     "output_type": "error",
     "traceback": [
      "\u001b[0;31m---------------------------------------------------------------------------\u001b[0m",
      "\u001b[0;31mNameError\u001b[0m                                 Traceback (most recent call last)",
      "\u001b[0;32m<ipython-input-17-11320503dff9>\u001b[0m in \u001b[0;36m<module>\u001b[0;34m()\u001b[0m\n\u001b[0;32m----> 1\u001b[0;31m \u001b[0mplotRandomInstance\u001b[0m\u001b[0;34m(\u001b[0m\u001b[0mtrainRetVals\u001b[0m\u001b[0;34m[\u001b[0m\u001b[0;34m\"preds\"\u001b[0m\u001b[0;34m]\u001b[0m\u001b[0;34m,\u001b[0m \u001b[0mtrainRetVals\u001b[0m\u001b[0;34m[\u001b[0m\u001b[0;34m\"targets\"\u001b[0m\u001b[0;34m]\u001b[0m\u001b[0;34m,\u001b[0m \u001b[0mtrainRetVals\u001b[0m\u001b[0;34m[\u001b[0m\u001b[0;34m\"datas\"\u001b[0m\u001b[0;34m]\u001b[0m\u001b[0;34m,\u001b[0m \u001b[0;34m\"Train\"\u001b[0m\u001b[0;34m)\u001b[0m\u001b[0;34m\u001b[0m\u001b[0m\n\u001b[0m",
      "\u001b[0;31mNameError\u001b[0m: name 'trainRetVals' is not defined"
     ]
    }
   ],
   "source": [
    "plotRandomInstance(trainRetVals[\"preds\"], trainRetVals[\"targets\"], trainRetVals[\"datas\"], \"Train\")"
   ]
  },
  {
   "cell_type": "code",
   "execution_count": 23,
   "metadata": {},
   "outputs": [
    {
     "data": {
      "image/png": "[encoded data removed]",
      "text/plain": [
       "<Figure size 432x288 with 1 Axes>"
      ]
     },
     "metadata": {
      "needs_background": "light"
     },
     "output_type": "display_data"
    }
   ],
   "source": [
    "plotRandomInstance(valRetVals[\"preds\"], valRetVals[\"targets\"], valRetVals[\"datas\"], \"Validation\")"
   ]
  },
  {
   "cell_type": "code",
   "execution_count": null,
   "metadata": {},
   "outputs": [],
   "source": [
    "plotRandomInstance(testRetVals[\"preds\"], testRetVals[\"targets\"], testRetVals[\"datas\"], \"Test\")"
   ]
  },
  {
   "cell_type": "code",
   "execution_count": null,
   "metadata": {},
   "outputs": [],
   "source": [
    "total = 0\n",
    "for p in getlossObj.model.parameters():\n",
    "    total += np.prod(p.shape)\n",
    "print(total)"
   ]
  },
  {
   "cell_type": "code",
   "execution_count": null,
   "metadata": {},
   "outputs": [],
   "source": [
    "print(getlossObj.dataDict[\"train_mean\"], getlossObj.dataDict[\"val_mean\"], getlossObj.dataDict[\"train_std\"], getlossObj.dataDict[\"val_std\"])"
   ]
  },
  {
   "cell_type": "code",
   "execution_count": null,
   "metadata": {},
   "outputs": [],
   "source": [
    "plt.plot(np.sqrt(np.mean((predsVal - targetsVal)**2, axis=(1,2))))\n",
    "ticks = plt.xticks(np.arange(0,12), np.arange(5,13*5, 5))\n",
    "plt.xlabel(\"Minutes after prediction time\")\n",
    "plt.ylabel(\"RMSE\")\n"
   ]
  },
  {
   "cell_type": "code",
   "execution_count": null,
   "metadata": {},
   "outputs": [],
   "source": [
    "plotTrainValCurve(plotTrainReconLosses, plotValReconLosses)"
   ]
  },
  {
   "cell_type": "code",
   "execution_count": null,
   "metadata": {},
   "outputs": [],
   "source": [
    "next(iter(getlossobj.model.parameters())).is_cuda"
   ]
  },
  {
   "cell_type": "code",
   "execution_count": 26,
   "metadata": {},
   "outputs": [
    {
     "name": "stdout",
     "output_type": "stream",
     "text": [
      "enc.embedding.weight\n",
      "enc.embedding.bias\n",
      "enc.gru.weight_ih_l0\n",
      "enc.gru.weight_hh_l0\n",
      "enc.gru.bias_ih_l0\n",
      "enc.gru.bias_hh_l0\n",
      "enc.gru.weight_ih_l0_reverse\n",
      "enc.gru.weight_hh_l0_reverse\n",
      "enc.gru.bias_ih_l0_reverse\n",
      "enc.gru.bias_hh_l0_reverse\n",
      "enc.gru.weight_ih_l1\n",
      "enc.gru.weight_hh_l1\n",
      "enc.gru.bias_ih_l1\n",
      "enc.gru.bias_hh_l1\n",
      "enc.gru.weight_ih_l1_reverse\n",
      "enc.gru.weight_hh_l1_reverse\n",
      "enc.gru.bias_ih_l1_reverse\n",
      "enc.gru.bias_hh_l1_reverse\n",
      "dec.embedding.weight\n",
      "dec.embedding.bias\n",
      "dec.gru.weight_ih_l0\n",
      "dec.gru.weight_hh_l0\n",
      "dec.gru.bias_ih_l0\n",
      "dec.gru.bias_hh_l0\n",
      "dec.gru.weight_ih_l1\n",
      "dec.gru.weight_hh_l1\n",
      "dec.gru.bias_ih_l1\n",
      "dec.gru.bias_hh_l1\n",
      "dec.out.weight\n",
      "dec.out.bias\n"
     ]
    }
   ],
   "source": [
    "for name, p in getlossobj.model.named_parameters():\n",
    "    if bias in \n",
    "    print(name)"
   ]
  },
  {
   "cell_type": "code",
   "execution_count": null,
   "metadata": {},
   "outputs": [],
   "source": []
  }
 ],
 "metadata": {
  "kernelspec": {
   "display_name": "Python 3",
   "language": "python",
   "name": "python3"
  },
  "language_info": {
   "codemirror_mode": {
    "name": "ipython",
    "version": 3
   },
   "file_extension": ".py",
   "mimetype": "text/x-python",
   "name": "python",
   "nbconvert_exporter": "python",
   "pygments_lexer": "ipython3",
   "version": "3.6.6"
  }
 },
 "nbformat": 4,
 "nbformat_minor": 2
}
