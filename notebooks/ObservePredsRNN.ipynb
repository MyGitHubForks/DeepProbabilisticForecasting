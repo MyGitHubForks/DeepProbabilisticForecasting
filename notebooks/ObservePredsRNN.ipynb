{
 "cells": [
  {
   "cell_type": "code",
   "execution_count": 1,
   "metadata": {},
   "outputs": [],
   "source": [
    "import pandas as pd\n",
    "import numpy as np\n",
    "import torch\n",
    "import matplotlib.pyplot as plt\n",
    "import json"
   ]
  },
  {
   "cell_type": "code",
   "execution_count": 10,
   "metadata": {
    "code_folding": []
   },
   "outputs": [],
   "source": [
    "%run GetLossObj.ipynb"
   ]
  },
  {
   "cell_type": "code",
   "execution_count": 22,
   "metadata": {},
   "outputs": [],
   "source": [
    "baseDir = \"../save/server1/rnn/model45/\"\n",
    "# expData = torch.load(baseDir+\"experimentData.pth\")\n",
    "plotTrainReconLosses = torch.load(baseDir + \"plot_train_recon_losses\", map_location=\"cpu\")\n",
    "plotValReconLosses = torch.load(baseDir + \"plot_val_recon_losses\", map_location=\"cpu\")\n",
    "with open(baseDir + \"args.txt\") as f:\n",
    "    args = f.read()"
   ]
  },
  {
   "cell_type": "code",
   "execution_count": 23,
   "metadata": {},
   "outputs": [
    {
     "data": {
      "text/plain": [
       "'{\"h_dim\": 256, \"z_dim\": 0, \"no_cuda\": false, \"no_attn\": true, \"n_epochs\": 20, \"batch_size\": 64, \"n_layers\": 2, \"initial_lr\": 1e-05, \"lr_decay_every\": 10, \"lr_decay_factor\": 0.1, \"lr_decay_beginning\": 20, \"print_every\": 1, \"criterion\": \"L1Loss\", \"save_freq\": 10, \"down_sample\": 0.0, \"model\": \"rnn\", \"lambda_l1\": 0, \"lambda_l2\": 0.0005, \"no_schedule_sampling\": false, \"scheduling_start\": 1.0, \"scheduling_end\": 0.0, \"tries\": 12, \"kld_warmup_until\": 5, \"kld_weight_max\": 0.1, \"no_shuffle_after_epoch\": false, \"clip\": 10, \"dataset\": \"human\", \"predictOnTest\": true, \"encoder_input_dropout\": 0.5, \"encoder_layer_dropout\": 0.5, \"decoder_input_dropout\": 0.5, \"decoder_layer_dropout\": 0.5, \"noEarlyStopping\": false, \"earlyStoppingPatients\": 3, \"earlyStoppingMinDelta\": 0.0001, \"bidirectionalEncoder\": true, \"local\": false, \"cuda\": true, \"_device\": \"cuda\", \"use_attn\": false, \"use_schedule_sampling\": true, \"x_dim\": 16, \"input_sequence_len\": 25, \"target_sequence_len\": 50, \"channels\": 2, \"output_dim\": 32, \"save_dir\": \"../save/models/model45/\"}'"
      ]
     },
     "execution_count": 23,
     "metadata": {},
     "output_type": "execute_result"
    }
   ],
   "source": [
    "args"
   ]
  },
  {
   "cell_type": "code",
   "execution_count": 24,
   "metadata": {},
   "outputs": [],
   "source": [
    "args = Bunch(json.loads(args))\n",
    "args.cuda = False"
   ]
  },
  {
   "cell_type": "code",
   "execution_count": 25,
   "metadata": {},
   "outputs": [
    {
     "name": "stdout",
     "output_type": "stream",
     "text": [
      "1e-05 human\n"
     ]
    }
   ],
   "source": [
    "print(args.initial_lr, args.dataset)"
   ]
  },
  {
   "cell_type": "code",
   "execution_count": 6,
   "metadata": {
    "scrolled": true
   },
   "outputs": [
    {
     "name": "stderr",
     "output_type": "stream",
     "text": [
      "INFO:root:Getting data from /Users/danielzeiberg/Documents/Data/Human/Processed/INPUT_HORIZON_25_PREDICTION_HORIZON_50/\n",
      "INFO:root:Getting train loader\n",
      "INFO:root:Getting val loader\n",
      "INFO:root:Getting test loader\n"
     ]
    }
   ],
   "source": [
    "dataDict = getDataLoaders(\"/Users/danielzeiberg/Documents/Data/Human/Processed/INPUT_HORIZON_25_PREDICTION_HORIZON_50/\")"
   ]
  },
  {
   "cell_type": "code",
   "execution_count": 11,
   "metadata": {},
   "outputs": [],
   "source": [
    "getlossobj = PostProcess(baseDir, dataDict=dataDict, chooseModel=\"rnn\")"
   ]
  },
  {
   "cell_type": "code",
   "execution_count": 12,
   "metadata": {},
   "outputs": [
    {
     "name": "stdout",
     "output_type": "stream",
     "text": [
      "min val loss: 10.2568 at idx 19\n"
     ]
    }
   ],
   "source": [
    "print(\"min val loss: {:.4f} at idx {}\".format(np.min(plotValReconLosses), np.argmin(plotValReconLosses)))"
   ]
  },
  {
   "cell_type": "code",
   "execution_count": 13,
   "metadata": {
    "scrolled": false
   },
   "outputs": [],
   "source": [
    "valRetVals = getlossobj.getLossAtEpoch(\"rnn_full_model.pth\", \"val\")"
   ]
  },
  {
   "cell_type": "code",
   "execution_count": 14,
   "metadata": {},
   "outputs": [],
   "source": [
    "trainRetVals = getlossobj.getLossAtEpoch(\"rnn_full_model.pth\", \"train\")"
   ]
  },
  {
   "cell_type": "code",
   "execution_count": 15,
   "metadata": {},
   "outputs": [],
   "source": [
    "testRetVals = getlossobj.getLossAtEpoch(\"rnn_full_model.pth\", \"test\")"
   ]
  },
  {
   "cell_type": "code",
   "execution_count": 16,
   "metadata": {},
   "outputs": [
    {
     "name": "stdout",
     "output_type": "stream",
     "text": [
      "train: 10.1529, val: 10.2568, test: 10.0944\n"
     ]
    }
   ],
   "source": [
    "print(\"train: {:.4f}, val: {:.4f}, test: {:.4f}\".format(trainRetVals[\"L1Loss\"],valRetVals[\"L1Loss\"], testRetVals[\"L1Loss\"]))"
   ]
  },
  {
   "cell_type": "code",
   "execution_count": null,
   "metadata": {},
   "outputs": [],
   "source": [
    "def plotRandomInstance(preds,targets, datas, dataset):\n",
    "    instance = np.random.randint(datas.shape[0])\n",
    "    sensor = np.random.randint(datas.shape[2])\n",
    "    p = preds[instance, :, sensor]\n",
    "    t = targets[instance, :, sensor]\n",
    "    d = datas[instance, :, sensor]\n",
    "    plt.plot(range(5,65, 5),p, label=\"Pred\")\n",
    "    #plt.fill_between(range(0,60, 5),m-1.96*std, m+1.96*std)\n",
    "    plt.plot(range(5,65, 5),t, label=\"target\")\n",
    "    plt.plot(range(-55,5, 5), d, label=\"input\")\n",
    "    plt.legend()\n",
    "    plt.xlabel(\"Minutes relative to prediction time\")\n",
    "    plt.ylabel(\"Speed (mph)\")\n",
    "    plt.title(\"random sensor sample {}\".format(dataset))\n",
    "    plt.show()"
   ]
  },
  {
   "cell_type": "code",
   "execution_count": null,
   "metadata": {},
   "outputs": [],
   "source": [
    "plotRandomInstance(trainRetVals[\"preds\"], trainRetVals[\"targets\"], trainRetVals[\"datas\"], \"Train\")"
   ]
  },
  {
   "cell_type": "code",
   "execution_count": null,
   "metadata": {},
   "outputs": [],
   "source": [
    "plotRandomInstance(valRetVals[\"preds\"], valRetVals[\"targets\"], valRetVals[\"datas\"], \"Validation\")"
   ]
  },
  {
   "cell_type": "code",
   "execution_count": null,
   "metadata": {},
   "outputs": [],
   "source": [
    "plotRandomInstance(testRetVals[\"preds\"], testRetVals[\"targets\"], testRetVals[\"datas\"], \"Test\")"
   ]
  },
  {
   "cell_type": "code",
   "execution_count": null,
   "metadata": {},
   "outputs": [],
   "source": [
    "total = 0\n",
    "for p in getlossObj.model.parameters():\n",
    "    total += np.prod(p.shape)\n",
    "print(total)"
   ]
  },
  {
   "cell_type": "code",
   "execution_count": null,
   "metadata": {},
   "outputs": [],
   "source": [
    "print(getlossObj.dataDict[\"train_mean\"], getlossObj.dataDict[\"val_mean\"], getlossObj.dataDict[\"train_std\"], getlossObj.dataDict[\"val_std\"])"
   ]
  },
  {
   "cell_type": "code",
   "execution_count": null,
   "metadata": {},
   "outputs": [],
   "source": [
    "plt.plot(np.sqrt(np.mean((predsVal - targetsVal)**2, axis=(1,2))))\n",
    "ticks = plt.xticks(np.arange(0,12), np.arange(5,13*5, 5))\n",
    "plt.xlabel(\"Minutes after prediction time\")\n",
    "plt.ylabel(\"RMSE\")\n"
   ]
  },
  {
   "cell_type": "code",
   "execution_count": null,
   "metadata": {},
   "outputs": [],
   "source": [
    "plotTrainValCurve(plotTrainReconLosses, plotValReconLosses)"
   ]
  },
  {
   "cell_type": "code",
   "execution_count": null,
   "metadata": {},
   "outputs": [],
   "source": [
    "next(iter(getlossobj.model.parameters())).is_cuda"
   ]
  },
  {
   "cell_type": "code",
   "execution_count": null,
   "metadata": {},
   "outputs": [],
   "source": [
    "for name, p in getlossobj.model.named_parameters():\n",
    "    if bias in \n",
    "    print(name)"
   ]
  },
  {
   "cell_type": "code",
   "execution_count": null,
   "metadata": {},
   "outputs": [],
   "source": []
  }
 ],
 "metadata": {
  "kernelspec": {
   "display_name": "Python 3",
   "language": "python",
   "name": "python3"
  },
  "language_info": {
   "codemirror_mode": {
    "name": "ipython",
    "version": 3
   },
   "file_extension": ".py",
   "mimetype": "text/x-python",
   "name": "python",
   "nbconvert_exporter": "python",
   "pygments_lexer": "ipython3",
   "version": "3.6.6"
  }
 },
 "nbformat": 4,
 "nbformat_minor": 2
}
