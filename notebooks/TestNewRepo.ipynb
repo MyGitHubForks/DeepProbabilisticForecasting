{
 "cells": [
  {
   "cell_type": "code",
   "execution_count": 319,
   "metadata": {},
   "outputs": [],
   "source": [
    "# %load \"../batchedRNN/newTrainUtils.py\"\n",
    "import logging, sys\n",
    "import torch\n",
    "import h5py\n",
    "import os\n",
    "import numpy as np\n",
    "import torch.utils.data as torchUtils\n",
    "import torch.optim as optim\n",
    "from functools import partial\n",
    "import torch.nn as nn\n",
    "import json\n",
    "from shutil import copy2, copyfile, copytree\n",
    "import argparse\n",
    "\n",
    "logging.basicConfig(stream=sys.stderr,level=logging.DEBUG)\n",
    "\n",
    "def getSaveDir():\n",
    "    saveDir = '../save/models/model0/'\n",
    "    while os.path.isdir(saveDir):\n",
    "        numStart = saveDir.rfind(\"model\")+5\n",
    "        numEnd = saveDir.rfind(\"/\")\n",
    "        saveDir = saveDir[:numStart] + str(int(saveDir[numStart:numEnd])+1) + \"/\"\n",
    "    os.mkdir(saveDir)\n",
    "    return saveDir\n",
    "\n",
    "def saveUsefulData():\n",
    "    argsFile = args.save_dir + \"args.txt\"\n",
    "    with open(argsFile, \"w\") as f:\n",
    "        f.write(json.dumps(vars(args)))\n",
    "    copy2(\"./train.py\", args.save_dir+\"train.py\")\n",
    "    copy2(\"./utils.py\", args.save_dir+\"utils.py\")\n",
    "    copy2(\"./gridSearchOptimize.py\", args.save_dir+\"gridsearchOptimize.py\")\n",
    "    copytree(\"./model\", args.save_dir+\"model/\")\n",
    "\n",
    "def getLoaderAndScaler(dataDir, category):\n",
    "    logging.info(\"Getting {} loader\".format(category))\n",
    "    f = np.load(os.path.join(dataDir, category + '.npz'))\n",
    "    my_dataset = torchUtils.TensorDataset(torch.Tensor(f[\"inputs\"]),torch.Tensor(f[\"targets\"])) # create your datset\n",
    "    scaler = getScaler(f[\"inputs\"])\n",
    "    sequence_len = f['inputs'].shape[1]\n",
    "    x_dim = f['inputs'].shape[2]\n",
    "    channels = f[\"inputs\"].shape[3]\n",
    "    shf = False\n",
    "    if category == \"train\":\n",
    "        shf = True\n",
    "    loader = torchUtils.DataLoader(\n",
    "        my_dataset,\n",
    "        batch_size=args.batch_size,\n",
    "        shuffle=shf,\n",
    "        num_workers=0,\n",
    "        pin_memory=False,\n",
    "        drop_last=True\n",
    "        )\n",
    "    return loader, scaler, sequence_len, x_dim, channels # create your dataloader\n",
    "\n",
    "def getDataLoaders(dataDir, debug=False):\n",
    "    loaders = {}\n",
    "    logging.info(\"Getting loaders\")\n",
    "    if debug:\n",
    "        categories = [\"test\"]\n",
    "        scalerSet = \"test\"\n",
    "    else:\n",
    "        categories = [\"train\", \"val\", \"test\"]\n",
    "        scalerSet = \"train\"\n",
    "    for category in categories:\n",
    "        loader, scaler, sequence_len, x_dim, channels = getLoaderAndScaler(dataDir, category)\n",
    "        if category == scalerSet:\n",
    "            loaders[\"scaler\"] = scaler\n",
    "            loaders[\"sequence_len\"] = sequence_len\n",
    "            loaders[\"x_dim\"] = x_dim\n",
    "            loaders[\"channels\"] = channels\n",
    "        loaders[category] = loader\n",
    "    return loaders\n",
    "\n",
    "def transformBatch(batch, scaler=None):\n",
    "    x = scaler.transform(batch[0]).permute(1,0,3,2)\n",
    "    y = scaler.transform(batch[1])[...,0].permute(1,0,2)\n",
    "    return x, y\n",
    "\n",
    "class StandardScaler:\n",
    "    \"\"\"\n",
    "    Standard the input\n",
    "    \"\"\"\n",
    "\n",
    "    def __init__(self, mean0, std0, mean1=0, std1=1):\n",
    "        self.mean0 = mean0\n",
    "        self.mean1 = mean1\n",
    "        self.std0 = std0\n",
    "        self.std1 = std1\n",
    "\n",
    "    def transform(self, data):\n",
    "        mean = torch.zeros(data.size())\n",
    "        mean[...,0] = self.mean0\n",
    "        mean[...,1] = self.mean1\n",
    "        std = torch.ones(data.size())\n",
    "        std[...,0] = self.std0\n",
    "        std[...,1] = self.std1\n",
    "        return torch.div(torch.sub(data,mean),std)\n",
    "\n",
    "    def inverse_transform(self, data):\n",
    "        \"\"\"\n",
    "        Inverse transform is applied to output and target.\n",
    "        These are only the speeds, so only use the first \n",
    "        \"\"\"\n",
    "        mean = torch.ones(data.size()) * self.mean0\n",
    "        std = torch.ones(data.size()) * self.std0\n",
    "        transformed = torch.add(torch.mul(data, std), mean)\n",
    "        return transformed.permute(1,0,2)\n",
    "\n",
    "    def inverse_transform_both_layers(self, data):\n",
    "        mean = torch.zeros(data.size())\n",
    "        mean[...,0] = self.mean0\n",
    "        mean[...,1] = self.mean1\n",
    "        std = torch.ones(data.size())\n",
    "        std[...,0] = self.std0\n",
    "        std[...,1] = self.std1\n",
    "        transformed =  torch.add(torch.mul(data, std), mean)\n",
    "        return transformed.permute(1,0,3,2)\n",
    "\n",
    "def getScaler(trainX):\n",
    "    mean = np.mean(trainX[...,0])\n",
    "    std = np.std(trainX[...,0])\n",
    "    return StandardScaler(mean, std)\n",
    "\n",
    "def getLoss(output, target, scaler):\n",
    "    output = scaler.inverse_transform(output)\n",
    "    target = scaler.inverse_transform(target)\n",
    "    assert output.size() == target.size(), \"output size: {}, target size: {}\".format(output.size(), target.size())\n",
    "    criterion = \"RMSE\"\n",
    "    if criterion == \"RMSE\":\n",
    "        criterion = nn.MSELoss()\n",
    "        return torch.sqrt(criterion(output, target))\n",
    "    elif criterion == \"L1Loss\":\n",
    "        criterion = nn.L1Loss()\n",
    "        return criterion(output, target)\n",
    "    else:\n",
    "        assert False, \"bad loss function\"\n",
    "\n"
   ]
  },
  {
   "cell_type": "code",
   "execution_count": 241,
   "metadata": {},
   "outputs": [
    {
     "name": "stdout",
     "output_type": "stream",
     "text": [
      "[[[63.99346889 47.31658719 66.478928  ]\n",
      "  [83.58477845 68.14084886 78.80703529]\n",
      "  [67.64627774 74.17082465 67.442546  ]\n",
      "  [69.3523733  67.5303261  81.86291422]]\n",
      "\n",
      " [[61.54254788 80.98376953 57.65292898]\n",
      "  [70.39640119 69.16869407 61.88037896]\n",
      "  [71.85493607 52.49022008 76.247361  ]\n",
      "  [70.47420001 65.06524411 62.03843337]]\n",
      "\n",
      " [[62.03218409 59.03003066 89.33351477]\n",
      "  [72.94890947 53.5682124  79.24120003]\n",
      "  [62.53528751 60.79562866 45.38959797]\n",
      "  [86.76727584 75.95259221 69.4931112 ]]\n",
      "\n",
      " [[65.6605624  55.51503742 62.93440345]\n",
      "  [48.51410024 44.77698867 66.58609757]\n",
      "  [67.99575007 63.9415507  44.65073071]\n",
      "  [74.10958984 54.92022061 41.04563709]]\n",
      "\n",
      " [[64.22282472 76.70059989 58.24453939]\n",
      "  [49.52074848 57.83752356 78.99927515]\n",
      "  [67.90346461 72.69957004 67.06095684]\n",
      "  [79.09172829 67.20691796 56.98543221]]]\n",
      "[[[0.87418004 0.24175163 0.42537499]\n",
      "  [0.38419471 0.76271611 0.17384757]\n",
      "  [0.28060401 0.53252047 0.94650913]\n",
      "  [0.48380768 0.99622422 0.57556417]]\n",
      "\n",
      " [[0.44128815 0.89676788 0.99854488]\n",
      "  [0.415575   0.84470827 0.49051991]\n",
      "  [0.88861068 0.57251799 0.53090212]\n",
      "  [0.07437121 0.07172123 0.5691304 ]]\n",
      "\n",
      " [[0.76124727 0.35131704 0.66059651]\n",
      "  [0.8381668  0.43261335 0.85214903]\n",
      "  [0.81675085 0.8495312  0.55632542]\n",
      "  [0.30614263 0.48378546 0.84030445]]\n",
      "\n",
      " [[0.27497645 0.55940419 0.40024164]\n",
      "  [0.07000131 0.23955218 0.615704  ]\n",
      "  [0.5682516  0.85377649 0.21685681]\n",
      "  [0.33880832 0.73858551 0.99615796]]\n",
      "\n",
      " [[0.66308951 0.60993787 0.4600775 ]\n",
      "  [0.62944519 0.44646329 0.27583162]\n",
      "  [0.20372552 0.80170119 0.78218589]\n",
      "  [0.54802596 0.54939378 0.48137848]]]\n"
     ]
    }
   ],
   "source": [
    "speeds = (np.random.randn(5, 4,3)* 10) + 65\n",
    "timeOfDay = np.random.rand(5, 4,3)\n",
    "print(speeds)\n",
    "print(timeOfDay)\n",
    "inputData = np.stack((speeds, timeOfDay), axis=3)"
   ]
  },
  {
   "cell_type": "code",
   "execution_count": 242,
   "metadata": {},
   "outputs": [
    {
     "data": {
      "text/plain": [
       "(5, 4, 3, 2)"
      ]
     },
     "execution_count": 242,
     "metadata": {},
     "output_type": "execute_result"
    }
   ],
   "source": [
    "inputData.shape"
   ]
  },
  {
   "cell_type": "code",
   "execution_count": 243,
   "metadata": {},
   "outputs": [
    {
     "data": {
      "text/plain": [
       "array([[[[6.39934689e+01, 8.74180041e-01],\n",
       "         [4.73165872e+01, 2.41751631e-01],\n",
       "         [6.64789280e+01, 4.25374988e-01]],\n",
       "\n",
       "        [[8.35847784e+01, 3.84194710e-01],\n",
       "         [6.81408489e+01, 7.62716106e-01],\n",
       "         [7.88070353e+01, 1.73847569e-01]],\n",
       "\n",
       "        [[6.76462777e+01, 2.80604010e-01],\n",
       "         [7.41708247e+01, 5.32520465e-01],\n",
       "         [6.74425460e+01, 9.46509135e-01]],\n",
       "\n",
       "        [[6.93523733e+01, 4.83807678e-01],\n",
       "         [6.75303261e+01, 9.96224224e-01],\n",
       "         [8.18629142e+01, 5.75564173e-01]]],\n",
       "\n",
       "\n",
       "       [[[6.15425479e+01, 4.41288150e-01],\n",
       "         [8.09837695e+01, 8.96767879e-01],\n",
       "         [5.76529290e+01, 9.98544885e-01]],\n",
       "\n",
       "        [[7.03964012e+01, 4.15575004e-01],\n",
       "         [6.91686941e+01, 8.44708266e-01],\n",
       "         [6.18803790e+01, 4.90519910e-01]],\n",
       "\n",
       "        [[7.18549361e+01, 8.88610682e-01],\n",
       "         [5.24902201e+01, 5.72517988e-01],\n",
       "         [7.62473610e+01, 5.30902124e-01]],\n",
       "\n",
       "        [[7.04742000e+01, 7.43712089e-02],\n",
       "         [6.50652441e+01, 7.17212344e-02],\n",
       "         [6.20384334e+01, 5.69130396e-01]]],\n",
       "\n",
       "\n",
       "       [[[6.20321841e+01, 7.61247272e-01],\n",
       "         [5.90300307e+01, 3.51317039e-01],\n",
       "         [8.93335148e+01, 6.60596505e-01]],\n",
       "\n",
       "        [[7.29489095e+01, 8.38166796e-01],\n",
       "         [5.35682124e+01, 4.32613345e-01],\n",
       "         [7.92412000e+01, 8.52149030e-01]],\n",
       "\n",
       "        [[6.25352875e+01, 8.16750852e-01],\n",
       "         [6.07956287e+01, 8.49531204e-01],\n",
       "         [4.53895980e+01, 5.56325424e-01]],\n",
       "\n",
       "        [[8.67672758e+01, 3.06142629e-01],\n",
       "         [7.59525922e+01, 4.83785460e-01],\n",
       "         [6.94931112e+01, 8.40304447e-01]]],\n",
       "\n",
       "\n",
       "       [[[6.56605624e+01, 2.74976449e-01],\n",
       "         [5.55150374e+01, 5.59404191e-01],\n",
       "         [6.29344034e+01, 4.00241635e-01]],\n",
       "\n",
       "        [[4.85141002e+01, 7.00013091e-02],\n",
       "         [4.47769887e+01, 2.39552176e-01],\n",
       "         [6.65860976e+01, 6.15704004e-01]],\n",
       "\n",
       "        [[6.79957501e+01, 5.68251597e-01],\n",
       "         [6.39415507e+01, 8.53776487e-01],\n",
       "         [4.46507307e+01, 2.16856808e-01]],\n",
       "\n",
       "        [[7.41095898e+01, 3.38808321e-01],\n",
       "         [5.49202206e+01, 7.38585514e-01],\n",
       "         [4.10456371e+01, 9.96157958e-01]]],\n",
       "\n",
       "\n",
       "       [[[6.42228247e+01, 6.63089508e-01],\n",
       "         [7.67005999e+01, 6.09937872e-01],\n",
       "         [5.82445394e+01, 4.60077503e-01]],\n",
       "\n",
       "        [[4.95207485e+01, 6.29445190e-01],\n",
       "         [5.78375236e+01, 4.46463290e-01],\n",
       "         [7.89992752e+01, 2.75831617e-01]],\n",
       "\n",
       "        [[6.79034646e+01, 2.03725521e-01],\n",
       "         [7.26995700e+01, 8.01701187e-01],\n",
       "         [6.70609568e+01, 7.82185888e-01]],\n",
       "\n",
       "        [[7.90917283e+01, 5.48025963e-01],\n",
       "         [6.72069180e+01, 5.49393782e-01],\n",
       "         [5.69854322e+01, 4.81378481e-01]]]])"
      ]
     },
     "execution_count": 243,
     "metadata": {},
     "output_type": "execute_result"
    }
   ],
   "source": [
    "inputData"
   ]
  },
  {
   "cell_type": "code",
   "execution_count": 244,
   "metadata": {},
   "outputs": [
    {
     "name": "stdout",
     "output_type": "stream",
     "text": [
      "[[[[6.15396237e+01 2.03808093e-01]\n",
      "   [8.25922890e+01 1.01084024e-01]\n",
      "   [6.28614131e+01 4.56517006e-01]]\n",
      "\n",
      "  [[6.29506740e+01 4.01087303e-02]\n",
      "   [6.51122754e+01 3.66117226e-01]\n",
      "   [5.55373589e+01 2.09935747e-01]]\n",
      "\n",
      "  [[7.91902415e+01 7.16083580e-01]\n",
      "   [7.74048880e+01 1.55617038e-01]\n",
      "   [6.22697363e+01 2.17075447e-01]]\n",
      "\n",
      "  [[5.23740140e+01 8.17640963e-01]\n",
      "   [6.81767309e+01 7.22203069e-01]\n",
      "   [7.41631781e+01 4.71626672e-02]]]\n",
      "\n",
      "\n",
      " [[[5.51807099e+01 4.73687388e-01]\n",
      "   [5.55771967e+01 3.20351286e-01]\n",
      "   [6.97079219e+01 6.08801304e-01]]\n",
      "\n",
      "  [[6.46319291e+01 5.60634988e-01]\n",
      "   [7.98639943e+01 1.76793705e-01]\n",
      "   [5.75901350e+01 4.12946621e-01]]\n",
      "\n",
      "  [[7.67450552e+01 8.01613975e-01]\n",
      "   [8.00392231e+01 2.99270062e-01]\n",
      "   [7.13157318e+01 3.95089207e-01]]\n",
      "\n",
      "  [[6.78573485e+01 3.73293435e-01]\n",
      "   [6.46762864e+01 2.35085112e-01]\n",
      "   [7.18587422e+01 4.80692518e-01]]]\n",
      "\n",
      "\n",
      " [[[6.98818010e+01 1.10009563e-01]\n",
      "   [5.98981697e+01 2.76521346e-01]\n",
      "   [6.94314512e+01 6.82984574e-01]]\n",
      "\n",
      "  [[7.37983672e+01 3.27705275e-01]\n",
      "   [7.82724117e+01 2.21402049e-02]\n",
      "   [6.24166520e+01 6.24233042e-01]]\n",
      "\n",
      "  [[5.86240084e+01 8.18573087e-02]\n",
      "   [8.32129345e+01 3.65823093e-01]\n",
      "   [7.52078027e+01 5.41316832e-01]]\n",
      "\n",
      "  [[5.51627460e+01 5.89174081e-01]\n",
      "   [5.56806980e+01 6.53442866e-01]\n",
      "   [7.60144545e+01 6.97718756e-01]]]\n",
      "\n",
      "\n",
      " [[[4.71171671e+01 2.30254457e-02]\n",
      "   [6.21668784e+01 2.17149714e-01]\n",
      "   [5.19390428e+01 9.49030215e-01]]\n",
      "\n",
      "  [[7.56808418e+01 1.43549769e-02]\n",
      "   [5.05386820e+01 8.40437918e-01]\n",
      "   [7.21132274e+01 6.08457118e-01]]\n",
      "\n",
      "  [[5.34564464e+01 7.45015027e-01]\n",
      "   [7.76508477e+01 2.42771738e-01]\n",
      "   [6.60422764e+01 8.25593008e-02]]\n",
      "\n",
      "  [[5.87844541e+01 7.49725740e-01]\n",
      "   [7.08683331e+01 7.38454325e-01]\n",
      "   [5.78072923e+01 5.46973158e-01]]]\n",
      "\n",
      "\n",
      " [[[5.62831625e+01 7.57627183e-01]\n",
      "   [6.55935636e+01 9.35814570e-01]\n",
      "   [5.48093998e+01 2.64286447e-01]]\n",
      "\n",
      "  [[5.32235096e+01 9.06470428e-01]\n",
      "   [7.33278332e+01 8.67883405e-01]\n",
      "   [8.07292424e+01 1.88879936e-01]]\n",
      "\n",
      "  [[6.27617338e+01 5.62476006e-01]\n",
      "   [4.47074652e+01 1.31349686e-01]\n",
      "   [6.65635528e+01 2.10967112e-01]]\n",
      "\n",
      "  [[5.94622209e+01 1.10482268e-01]\n",
      "   [7.11336612e+01 6.09595833e-01]\n",
      "   [3.89740413e+01 2.89897447e-01]]]]\n"
     ]
    }
   ],
   "source": [
    "speedsTarget = (np.random.randn(5,4,3)* 10) + 65\n",
    "timeOfDayTarget = np.random.rand(5,4,3)\n",
    "targetData = np.stack((speedsTarget, timeOfDayTarget), axis=3)\n",
    "print(targetData)"
   ]
  },
  {
   "cell_type": "code",
   "execution_count": 245,
   "metadata": {},
   "outputs": [],
   "source": [
    "scaler = getScaler(inputData, targetData)"
   ]
  },
  {
   "cell_type": "code",
   "execution_count": 246,
   "metadata": {},
   "outputs": [
    {
     "data": {
      "text/plain": [
       "65.6722303113465"
      ]
     },
     "execution_count": 246,
     "metadata": {},
     "output_type": "execute_result"
    }
   ],
   "source": [
    "scaler.mean0"
   ]
  },
  {
   "cell_type": "code",
   "execution_count": 247,
   "metadata": {},
   "outputs": [
    {
     "data": {
      "text/plain": [
       "10.811694913373284"
      ]
     },
     "execution_count": 247,
     "metadata": {},
     "output_type": "execute_result"
    }
   ],
   "source": [
    "scaler.std0"
   ]
  },
  {
   "cell_type": "code",
   "execution_count": 248,
   "metadata": {},
   "outputs": [
    {
     "data": {
      "text/plain": [
       "0"
      ]
     },
     "execution_count": 248,
     "metadata": {},
     "output_type": "execute_result"
    }
   ],
   "source": [
    "scaler.mean1"
   ]
  },
  {
   "cell_type": "code",
   "execution_count": 249,
   "metadata": {},
   "outputs": [
    {
     "data": {
      "text/plain": [
       "1"
      ]
     },
     "execution_count": 249,
     "metadata": {},
     "output_type": "execute_result"
    }
   ],
   "source": [
    "scaler.std1"
   ]
  },
  {
   "cell_type": "code",
   "execution_count": 250,
   "metadata": {},
   "outputs": [],
   "source": [
    "inputTTransformed, targetTTransformed = transformBatch([torch.FloatTensor(inputData), torch.FloatTensor(targetData)], scaler)"
   ]
  },
  {
   "cell_type": "code",
   "execution_count": 251,
   "metadata": {},
   "outputs": [
    {
     "data": {
      "text/plain": [
       "torch.Size([4, 5, 2, 3])"
      ]
     },
     "execution_count": 251,
     "metadata": {},
     "output_type": "execute_result"
    }
   ],
   "source": [
    "inputTTransformed.size()"
   ]
  },
  {
   "cell_type": "code",
   "execution_count": 252,
   "metadata": {},
   "outputs": [
    {
     "name": "stdout",
     "output_type": "stream",
     "text": [
      "-3.6358833e-07 1.0\n"
     ]
    }
   ],
   "source": [
    "print(np.mean(inputTTransformed[:,:,0,:].numpy()), np.std(inputTTransformed[:,:,0,:].numpy()))"
   ]
  },
  {
   "cell_type": "code",
   "execution_count": 253,
   "metadata": {},
   "outputs": [
    {
     "data": {
      "text/plain": [
       "torch.Size([4, 5, 3])"
      ]
     },
     "execution_count": 253,
     "metadata": {},
     "output_type": "execute_result"
    }
   ],
   "source": [
    "targetTTransformed.size()"
   ]
  },
  {
   "cell_type": "code",
   "execution_count": 254,
   "metadata": {},
   "outputs": [
    {
     "name": "stdout",
     "output_type": "stream",
     "text": [
      "-0.04899164 0.9387398\n"
     ]
    }
   ],
   "source": [
    "print(np.mean(targetTTransformed.numpy()), np.std(targetTTransformed.numpy()))"
   ]
  },
  {
   "cell_type": "code",
   "execution_count": 255,
   "metadata": {
    "scrolled": true
   },
   "outputs": [
    {
     "data": {
      "text/plain": [
       "torch.Size([4, 5, 3])"
      ]
     },
     "execution_count": 255,
     "metadata": {},
     "output_type": "execute_result"
    }
   ],
   "source": [
    "targetTTransformed.size()"
   ]
  },
  {
   "cell_type": "code",
   "execution_count": 256,
   "metadata": {},
   "outputs": [
    {
     "name": "stdout",
     "output_type": "stream",
     "text": [
      "-0.024495991 0.970163\n"
     ]
    }
   ],
   "source": [
    "print(np.mean(np.concatenate((inputTTransformed.numpy()[:,:,0,:], targetTTransformed.numpy()),axis=1)),np.std(np.concatenate((inputTTransformed.numpy()[:,:,0,:], targetTTransformed.numpy()),axis=1)))"
   ]
  },
  {
   "cell_type": "code",
   "execution_count": 257,
   "metadata": {},
   "outputs": [
    {
     "data": {
      "text/plain": [
       "65.6722303113465"
      ]
     },
     "execution_count": 257,
     "metadata": {},
     "output_type": "execute_result"
    }
   ],
   "source": [
    "np.mean(inputData[...,0])"
   ]
  },
  {
   "cell_type": "code",
   "execution_count": 258,
   "metadata": {},
   "outputs": [
    {
     "data": {
      "text/plain": [
       "tensor(-0.0000)"
      ]
     },
     "execution_count": 258,
     "metadata": {},
     "output_type": "execute_result"
    }
   ],
   "source": [
    "scaler.transform(torch.FloatTensor(inputData))[...,0].mean()"
   ]
  },
  {
   "cell_type": "code",
   "execution_count": 259,
   "metadata": {},
   "outputs": [
    {
     "data": {
      "text/plain": [
       "array([[63.99346889, 47.31658719, 66.478928  ],\n",
       "       [83.58477845, 68.14084886, 78.80703529],\n",
       "       [67.64627774, 74.17082465, 67.442546  ],\n",
       "       [69.3523733 , 67.5303261 , 81.86291422]])"
      ]
     },
     "execution_count": 259,
     "metadata": {},
     "output_type": "execute_result"
    }
   ],
   "source": [
    "inputData[0,:,:,0]"
   ]
  },
  {
   "cell_type": "code",
   "execution_count": 260,
   "metadata": {},
   "outputs": [
    {
     "data": {
      "text/plain": [
       "tensor([[-0.1553, -1.6978,  0.0746],\n",
       "        [ 1.6568,  0.2283,  1.2149],\n",
       "        [ 0.1826,  0.7861,  0.1637],\n",
       "        [ 0.3404,  0.1719,  1.4975]])"
      ]
     },
     "execution_count": 260,
     "metadata": {},
     "output_type": "execute_result"
    }
   ],
   "source": [
    "inputTTransformed[:,0,0,:]"
   ]
  },
  {
   "cell_type": "code",
   "execution_count": 261,
   "metadata": {},
   "outputs": [
    {
     "data": {
      "text/plain": [
       "65.6722303113465"
      ]
     },
     "execution_count": 261,
     "metadata": {},
     "output_type": "execute_result"
    }
   ],
   "source": [
    "scaler.mean0"
   ]
  },
  {
   "cell_type": "code",
   "execution_count": 262,
   "metadata": {},
   "outputs": [
    {
     "data": {
      "text/plain": [
       "(5, 4, 3, 2)"
      ]
     },
     "execution_count": 262,
     "metadata": {},
     "output_type": "execute_result"
    }
   ],
   "source": [
    "inputData.shape"
   ]
  },
  {
   "cell_type": "code",
   "execution_count": 263,
   "metadata": {},
   "outputs": [
    {
     "data": {
      "text/plain": [
       "torch.Size([4, 5, 3])"
      ]
     },
     "execution_count": 263,
     "metadata": {},
     "output_type": "execute_result"
    }
   ],
   "source": [
    "targetTTransformed.shape"
   ]
  },
  {
   "cell_type": "code",
   "execution_count": 283,
   "metadata": {},
   "outputs": [
    {
     "data": {
      "text/plain": [
       "(5, 4, 3, 2)"
      ]
     },
     "execution_count": 283,
     "metadata": {},
     "output_type": "execute_result"
    }
   ],
   "source": [
    "inputData.shape"
   ]
  },
  {
   "cell_type": "code",
   "execution_count": 295,
   "metadata": {},
   "outputs": [
    {
     "name": "stdout",
     "output_type": "stream",
     "text": [
      "torch.Size([4, 5, 2, 3])\n",
      "torch.Size([4, 5, 3])\n"
     ]
    }
   ],
   "source": [
    "data = []\n",
    "data.append(torch.FloatTensor(inputData))\n",
    "data.append(torch.FloatTensor(targetData))\n",
    "transedX, transedY = transformBatch(data, scaler)\n",
    "print(transedX.shape)\n",
    "print(transedY.shape)"
   ]
  },
  {
   "cell_type": "code",
   "execution_count": 296,
   "metadata": {},
   "outputs": [],
   "source": [
    "mockOutput = transedX[:,:,0,:]"
   ]
  },
  {
   "cell_type": "code",
   "execution_count": 297,
   "metadata": {},
   "outputs": [],
   "source": [
    "invTransOutput = scaler.inverse_transform(mockOutput)"
   ]
  },
  {
   "cell_type": "code",
   "execution_count": 298,
   "metadata": {},
   "outputs": [
    {
     "data": {
      "text/plain": [
       "torch.Size([5, 4, 3])"
      ]
     },
     "execution_count": 298,
     "metadata": {},
     "output_type": "execute_result"
    }
   ],
   "source": [
    "invTransOutput.shape"
   ]
  },
  {
   "cell_type": "code",
   "execution_count": 299,
   "metadata": {},
   "outputs": [
    {
     "data": {
      "text/plain": [
       "(5, 4, 3, 2)"
      ]
     },
     "execution_count": 299,
     "metadata": {},
     "output_type": "execute_result"
    }
   ],
   "source": [
    "inputData.shape"
   ]
  },
  {
   "cell_type": "code",
   "execution_count": 300,
   "metadata": {},
   "outputs": [
    {
     "data": {
      "text/plain": [
       "tensor([[63.9935, 47.3166, 66.4789],\n",
       "        [83.5848, 68.1408, 78.8070],\n",
       "        [67.6463, 74.1708, 67.4425],\n",
       "        [69.3524, 67.5303, 81.8629]])"
      ]
     },
     "execution_count": 300,
     "metadata": {},
     "output_type": "execute_result"
    }
   ],
   "source": [
    "invTransOutput[0]"
   ]
  },
  {
   "cell_type": "code",
   "execution_count": 301,
   "metadata": {},
   "outputs": [
    {
     "data": {
      "text/plain": [
       "array([[63.99346889, 47.31658719, 66.478928  ],\n",
       "       [83.58477845, 68.14084886, 78.80703529],\n",
       "       [67.64627774, 74.17082465, 67.442546  ],\n",
       "       [69.3523733 , 67.5303261 , 81.86291422]])"
      ]
     },
     "execution_count": 301,
     "metadata": {},
     "output_type": "execute_result"
    }
   ],
   "source": [
    "inputData[0,:,:,0]"
   ]
  },
  {
   "cell_type": "code",
   "execution_count": 305,
   "metadata": {},
   "outputs": [
    {
     "data": {
      "text/plain": [
       "tensor([[61.5396, 82.5923, 62.8614],\n",
       "        [62.9507, 65.1123, 55.5374],\n",
       "        [79.1902, 77.4049, 62.2697],\n",
       "        [52.3740, 68.1767, 74.1632]])"
      ]
     },
     "execution_count": 305,
     "metadata": {},
     "output_type": "execute_result"
    }
   ],
   "source": [
    "scaler.inverse_transform(transedY)[0]"
   ]
  },
  {
   "cell_type": "code",
   "execution_count": 306,
   "metadata": {},
   "outputs": [
    {
     "data": {
      "text/plain": [
       "array([[61.53962369, 82.59228897, 62.86141313],\n",
       "       [62.95067404, 65.1122754 , 55.53735889],\n",
       "       [79.19024146, 77.40488797, 62.26973628],\n",
       "       [52.37401402, 68.17673093, 74.16317807]])"
      ]
     },
     "execution_count": 306,
     "metadata": {},
     "output_type": "execute_result"
    }
   ],
   "source": [
    "targetData[0,:,:,0]"
   ]
  },
  {
   "cell_type": "code",
   "execution_count": 311,
   "metadata": {},
   "outputs": [
    {
     "data": {
      "text/plain": [
       "tensor(1, dtype=torch.uint8)"
      ]
     },
     "execution_count": 311,
     "metadata": {},
     "output_type": "execute_result"
    }
   ],
   "source": [
    "(torch.FloatTensor(inputData) == torch.FloatTensor(inputData).permute(1,0,3,2).permute(1,0,3,2)).all()"
   ]
  },
  {
   "cell_type": "code",
   "execution_count": 323,
   "metadata": {},
   "outputs": [
    {
     "data": {
      "text/plain": [
       "tensor(15.1692)"
      ]
     },
     "execution_count": 323,
     "metadata": {},
     "output_type": "execute_result"
    }
   ],
   "source": [
    "getLoss(mockOutput, targetTTransformed, scaler)"
   ]
  },
  {
   "cell_type": "code",
   "execution_count": 326,
   "metadata": {},
   "outputs": [
    {
     "data": {
      "text/plain": [
       "15.169173362390103"
      ]
     },
     "execution_count": 326,
     "metadata": {},
     "output_type": "execute_result"
    }
   ],
   "source": [
    "np.sqrt(np.mean((inputData[...,0] - targetData[...,0])**2))"
   ]
  },
  {
   "cell_type": "code",
   "execution_count": null,
   "metadata": {},
   "outputs": [],
   "source": []
  }
 ],
 "metadata": {
  "kernelspec": {
   "display_name": "Python 3",
   "language": "python",
   "name": "python3"
  },
  "language_info": {
   "codemirror_mode": {
    "name": "ipython",
    "version": 3
   },
   "file_extension": ".py",
   "mimetype": "text/x-python",
   "name": "python",
   "nbconvert_exporter": "python",
   "pygments_lexer": "ipython3",
   "version": "3.6.6"
  }
 },
 "nbformat": 4,
 "nbformat_minor": 2
}
