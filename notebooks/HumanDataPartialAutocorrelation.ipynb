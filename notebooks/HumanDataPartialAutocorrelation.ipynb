{
 "cells": [
  {
   "cell_type": "code",
   "execution_count": null,
   "metadata": {},
   "outputs": [],
   "source": [
    "import statsmodels\n",
    "from statsmodels.graphics.tsaplots import plot_pacf, plot_acf\n",
    "from statsmodels.tsa.stattools import acf, pacf\n",
    "import h5py\n",
    "import numpy as np\n",
    "import matplotlib.pyplot as plt\n",
    "from joblib import Parallel, delayed\n",
    "from multiprocess import Pool"
   ]
  },
  {
   "cell_type": "code",
   "execution_count": null,
   "metadata": {},
   "outputs": [],
   "source": [
    "f = h5py.File(\"/Users/danielzeiberg/Documents/Human3.6/Processed/all_2D.h5\")"
   ]
  },
  {
   "cell_type": "code",
   "execution_count": null,
   "metadata": {},
   "outputs": [],
   "source": [
    "f[\"instances\"].shape"
   ]
  },
  {
   "cell_type": "code",
   "execution_count": null,
   "metadata": {},
   "outputs": [],
   "source": [
    "def do(index = None, subject=None, action=None, subaction=None, camera=None, limit=10000, shouldPlot=True, lastSignificant=True):\n",
    "    if shouldPlot:\n",
    "        fig, axes = plt.subplots(32, 1)\n",
    "        fig.set_size_inches(16, 256)\n",
    "        plt.subplots_adjust(hspace=.90)\n",
    "    if index:\n",
    "        inst = index\n",
    "    else:\n",
    "        indices = []\n",
    "        subjectindices = []\n",
    "        actionindices = []\n",
    "        subactionindices = []\n",
    "        cameraindices = []\n",
    "        for i in range(f[\"instances\"].shape[0]):\n",
    "            if subject != None and f[\"subjects\"][i] == subject:\n",
    "                subjectindices.append(i)\n",
    "            if action != None and f[\"actions\"][i] == action:\n",
    "                actionindices.append(i)\n",
    "            if subaction != None and f[\"subactions\"][i] == subaction:\n",
    "                subactionindices.append(i)\n",
    "            if camera != None and f[\"cameras\"][i] == camera:\n",
    "                cameraindices.append(i)\n",
    "        if not subject and not action and not subaction and not camera:\n",
    "            indices = range(f[\"instances\"].shape[0])\n",
    "        elif subject != None and not len(indices):\n",
    "            indices = subjectindices\n",
    "        elif action != None:\n",
    "            if not len(indices):\n",
    "                indices = actionindices\n",
    "            else:\n",
    "                indices = set(indices).intersection(actionindices)\n",
    "        elif subaction != None:\n",
    "            if not len(indices):\n",
    "                indices = subactionindices\n",
    "            else:\n",
    "                indices = set(indices).intersection(subactionindices)\n",
    "        elif camera != None:\n",
    "            if not len(indices):\n",
    "                indices = cameraindices\n",
    "            else:\n",
    "                indices = set(indices).intersection(camera)\n",
    "        inst = np.random.choice(indices)\n",
    "    dat = f[\"instances\"][inst]\n",
    "    def plotVals(i,j):\n",
    "        num = min(f[\"lengths\"][inst], limit)\n",
    "        corr= dat[:num,i,j]\n",
    "        if shouldPlot:\n",
    "            plot_acf(corr,\n",
    "                        title=\"Autocorrelation S: {} A: {} SA: {} C: {} sensor({},{})\".format(f[\"subjects\"][inst],\n",
    "                                                                                              f[\"actions\"][inst],\n",
    "                                                                                              f[\"subactions\"][inst],\n",
    "                                                                                              f[\"cameras\"][inst],\n",
    "                                                                                              i,j),\n",
    "                        lags=range(1,len(corr)),\n",
    "                        ax = axes[i*2+j],\n",
    "                        alpha=None\n",
    "                        )\n",
    "        acfVals,confInt = acf(corr, nlags=len(corr)-1, alpha=0.05)\n",
    "#         def sse(lag):\n",
    "#             return 1.96 / np.sqrt(corr.shape[0] - lag)\n",
    "#         SE = np.array([sse(lag) for lag in range(len(corr))])\n",
    "        maxLag = 0\n",
    "        for idx,lag in enumerate(range(len(corr))):\n",
    "            if acfVals[idx] < confInt[idx,0]-acfVals[idx] or acfVals[idx] > confInt[idx,1]-acfVals[idx]:\n",
    "                color=\"green\"\n",
    "                if lastSignificant:\n",
    "                    maxLag = idx\n",
    "            else:\n",
    "                if not lastSignificant:\n",
    "                    if maxLag == 0:\n",
    "                        maxLag = idx - 1\n",
    "                color=\"red\"\n",
    "            if shouldPlot:\n",
    "                axes[2*i+j].scatter(idx, acfVals[idx], color=color, zorder=3)\n",
    "        if shouldPlot:\n",
    "            axes[2*i+j].fill_between(np.arange(len(corr)), confInt[:,0]-acfVals, confInt[:,1]-acfVals, alpha=0.25)\n",
    "            axes[2*i+j].set_xticks(np.arange(0,len(corr), len(corr)//20))\n",
    "            axes[2*i+j].set_xlabel(\"lag\")\n",
    "            axes[2*i+j].set_ylabel(\"Autocorrelation\")\n",
    "            axes[2*i+j].set_xticklabels(np.arange(0,len(corr), len(corr)//20), rotation=45)\n",
    "        return maxLag\n",
    "    maxLags = []\n",
    "    for i in range(16):\n",
    "        for j in range(2):\n",
    "            maxLags.append(plotVals(i,j))\n",
    "    print(np.mean(maxLags))\n",
    "    return np.mean(maxLags)"
   ]
  },
  {
   "cell_type": "code",
   "execution_count": null,
   "metadata": {},
   "outputs": [],
   "source": [
    "do(lastSignificant=False)"
   ]
  },
  {
   "cell_type": "code",
   "execution_count": null,
   "metadata": {},
   "outputs": [],
   "source": [
    "maxLags = [do(index=i, shouldPlot=False, lastSignificant=False) for i in range(f[\"instances\"].shape[0])]"
   ]
  },
  {
   "cell_type": "code",
   "execution_count": null,
   "metadata": {},
   "outputs": [],
   "source": [
    "plt.hist(maxLags)\n",
    "plt.title(\"lag based off first insignificant, mean: {}, median: {} std: {}, min: {}, max: {}\".format(\n",
    "    np.mean(maxLags), np.median(maxLags), np.std(maxLags), np.min(maxLags), np.max(maxLags)))"
   ]
  },
  {
   "cell_type": "code",
   "execution_count": null,
   "metadata": {},
   "outputs": [],
   "source": [
    "def getACF():\n",
    "    inst = np.random.choice(f[\"instances\"].shape[0])\n",
    "    dat = f[\"instances\"][inst]\n",
    "    def getVal(i,j):\n",
    "        num = f[\"lengths\"][inst]\n",
    "        corr= dat[:num,i,j]\n",
    "        acfVals, confint = acf(corr,\n",
    "            nlags=5,\n",
    "            qstat = False,\n",
    "            fft=True,\n",
    "            alpha=.05,\n",
    "            \n",
    "           )\n",
    "        print(acfVals)\n",
    "        print(confint)\n",
    "    for i in range(16):\n",
    "        for j in range(2):\n",
    "            getVal(i,j)"
   ]
  },
  {
   "cell_type": "code",
   "execution_count": null,
   "metadata": {},
   "outputs": [],
   "source": [
    "getACF()"
   ]
  },
  {
   "cell_type": "code",
   "execution_count": null,
   "metadata": {},
   "outputs": [],
   "source": [
    "choice = np.random.choice(f[\"instances\"].shape[0])\n",
    "length = f[\"lengths\"][choice]\n",
    "dat = f[\"instances\"][choice][:length]\n",
    "for i in range(16):\n",
    "    for j in range(2):\n",
    "        plt.clf()\n",
    "        plt.plot(dat[0:-1:5,i,j])\n",
    "        plt.axhline(y=dat[0:-1:5,i,j].mean(),linestyle='-')\n",
    "        plt.show()"
   ]
  },
  {
   "cell_type": "markdown",
   "metadata": {},
   "source": [
    "The data looks relatively stationary"
   ]
  },
  {
   "cell_type": "code",
   "execution_count": null,
   "metadata": {},
   "outputs": [],
   "source": [
    "choice = np.random.choice(f[\"instances\"].shape[0])\n",
    "length = f[\"lengths\"][choice]\n",
    "dat = f[\"instances\"][choice][:length]\n",
    "for i in range(16):\n",
    "    for j in range(2):\n",
    "        plt.clf()\n",
    "        plt.plot(dat[0:15,i,j])\n",
    "        plt.axhline(y=dat[0:15,i,j].mean(),linestyle='-')\n",
    "        plt.show()"
   ]
  },
  {
   "cell_type": "code",
   "execution_count": null,
   "metadata": {},
   "outputs": [],
   "source": [
    "choice = np.random.choice(f[\"instances\"].shape[0])\n",
    "(f[\"instances\"][choice, 1:-1:5,:,:] == 0).all() and (f[\"instances\"][choice, 2:-1:5,:,:] == 0).all() and (f[\"instances\"][choice, 3:-1:5,:,:] == 0).all() and (f[\"instances\"][choice, 4:-1:5,:,:] == 0).all()"
   ]
  },
  {
   "cell_type": "code",
   "execution_count": null,
   "metadata": {},
   "outputs": [],
   "source": []
  }
 ],
 "metadata": {
  "kernelspec": {
   "display_name": "Python 3",
   "language": "python",
   "name": "python3"
  },
  "language_info": {
   "codemirror_mode": {
    "name": "ipython",
    "version": 3
   },
   "file_extension": ".py",
   "mimetype": "text/x-python",
   "name": "python",
   "nbconvert_exporter": "python",
   "pygments_lexer": "ipython3",
   "version": "3.6.6"
  }
 },
 "nbformat": 4,
 "nbformat_minor": 2
}
