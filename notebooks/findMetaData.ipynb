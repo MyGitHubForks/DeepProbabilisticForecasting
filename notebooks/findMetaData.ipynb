{
 "cells": [
  {
   "cell_type": "code",
   "execution_count": null,
   "metadata": {},
   "outputs": [],
   "source": [
    "import h5py\n",
    "import pandas as pd\n",
    "import numpy as np"
   ]
  },
  {
   "cell_type": "code",
   "execution_count": null,
   "metadata": {},
   "outputs": [],
   "source": [
    "f = pd.read_hdf('/Users/danielzeiberg/Documents/TrafficData/df_highway_2012_4mon_sample.h5')"
   ]
  },
  {
   "cell_type": "code",
   "execution_count": null,
   "metadata": {},
   "outputs": [],
   "source": [
    "f.index.values"
   ]
  },
  {
   "cell_type": "code",
   "execution_count": null,
   "metadata": {},
   "outputs": [],
   "source": [
    "for k in f.keys():\n",
    "    print(k)"
   ]
  },
  {
   "cell_type": "code",
   "execution_count": null,
   "metadata": {},
   "outputs": [],
   "source": [
    "for k in f[\"df\"].keys():\n",
    "    print(k)"
   ]
  },
  {
   "cell_type": "code",
   "execution_count": null,
   "metadata": {},
   "outputs": [],
   "source": [
    "f[\"df\"]"
   ]
  },
  {
   "cell_type": "code",
   "execution_count": null,
   "metadata": {},
   "outputs": [],
   "source": [
    "meta = pd.read_hdf(\"./data/df_highway_2012_4mon_sample.h5\")"
   ]
  },
  {
   "cell_type": "code",
   "execution_count": null,
   "metadata": {},
   "outputs": [],
   "source": [
    "meta"
   ]
  },
  {
   "cell_type": "code",
   "execution_count": null,
   "metadata": {},
   "outputs": [],
   "source": [
    "times = meta.index.tolist()"
   ]
  },
  {
   "cell_type": "code",
   "execution_count": null,
   "metadata": {},
   "outputs": [],
   "source": [
    "str(times[1])"
   ]
  },
  {
   "cell_type": "code",
   "execution_count": null,
   "metadata": {},
   "outputs": [],
   "source": [
    "trainSub = meta.iloc[:int(meta.shape[0]*0.7)]\n",
    "valTestSub = meta.iloc[int(meta.shape[0] * 0.7):]\n",
    "valSub = valTestSub[:int(valTestSub.shape[0] * .66)]\n",
    "testSub = valTestSub[int(valTestSub.shape[0] * .66):]"
   ]
  },
  {
   "cell_type": "code",
   "execution_count": null,
   "metadata": {},
   "outputs": [],
   "source": [
    "trainSub.shape"
   ]
  },
  {
   "cell_type": "code",
   "execution_count": null,
   "metadata": {},
   "outputs": [],
   "source": [
    "valSub.shape"
   ]
  },
  {
   "cell_type": "code",
   "execution_count": null,
   "metadata": {},
   "outputs": [],
   "source": [
    "testSub.shape"
   ]
  },
  {
   "cell_type": "code",
   "execution_count": null,
   "metadata": {},
   "outputs": [],
   "source": [
    "meta.shape[0] == trainSub.shape[0] + valSub.shape[0] + testSub.shape[0]"
   ]
  },
  {
   "cell_type": "code",
   "execution_count": null,
   "metadata": {},
   "outputs": [],
   "source": [
    "trainSub.shape"
   ]
  },
  {
   "cell_type": "code",
   "execution_count": null,
   "metadata": {},
   "outputs": [],
   "source": [
    "def saveDF(pdf, name, seqLen=12):\n",
    "    times = pdf.index.tolist()\n",
    "    inputDF = np.zeros((pdf.shape[0]-2*seqLen, seqLen, pdf.shape[1], 1))\n",
    "    inputTimes = []\n",
    "    targetTimes = []\n",
    "    targetDF = np.zeros((pdf.shape[0]-2*seqLen, seqLen, pdf.shape[1], 1))\n",
    "    \n",
    "    for startIndex in range(0, pdf.shape[0]-2*seqLen):\n",
    "        if startIndex % 1000 == 0:\n",
    "            print(startIndex, \"of\", pdf.shape[0]-2*seqLen)\n",
    "        inputTimes.append(times[startIndex:int(startIndex+seqLen)])\n",
    "        inp = pdf.iloc[startIndex: int(startIndex+seqLen)]\n",
    "        targetTimes.append(times[int(startIndex+seqLen) :startIndex+2*seqLen])\n",
    "        target = pdf.iloc[int(startIndex+seqLen) :startIndex+2*seqLen]\n",
    "        inputDF[startIndex,...] = np.expand_dims(inp, 2)\n",
    "        targetDF[startIndex,...] = np.expand_dims(target, 2)\n",
    "    np.savez(name, inputs=inputDF, targets=targetDF, inputTimes=np.array(inputTimes), targetTimes=np.array(targetTimes))"
   ]
  },
  {
   "cell_type": "code",
   "execution_count": null,
   "metadata": {},
   "outputs": [],
   "source": [
    "def saveDF3D(pdf, name, seqLen=12):\n",
    "    times = pdf.index.tolist()\n",
    "    inputDF = np.zeros((pdf.shape[0]-2*seqLen, seqLen, pdf.shape[1]))\n",
    "    inputTimes = []\n",
    "    targetTimes = []\n",
    "    targetDF = np.zeros((pdf.shape[0]-2*seqLen, seqLen, pdf.shape[1]))\n",
    "    \n",
    "    for startIndex in range(0, pdf.shape[0]-2*seqLen):\n",
    "        if startIndex % 1000 == 0:\n",
    "            print(startIndex, \"of\", pdf.shape[0]-2*seqLen)\n",
    "        inputTimes.append(times[startIndex:int(startIndex+seqLen)])\n",
    "        inp = pdf.iloc[startIndex: int(startIndex+seqLen)]\n",
    "        targetTimes.append(times[int(startIndex+seqLen) :startIndex+2*seqLen])\n",
    "        target = pdf.iloc[int(startIndex+seqLen) :startIndex+2*seqLen]\n",
    "        inputDF[startIndex,...] = inp\n",
    "        targetDF[startIndex,...] = target\n",
    "    np.savez(name, inputs=inputDF, targets=targetDF, inputTimes=np.array(inputTimes), targetTimes=np.array(targetTimes))"
   ]
  },
  {
   "cell_type": "code",
   "execution_count": null,
   "metadata": {},
   "outputs": [],
   "source": [
    "saveDF3D(trainSub, \"train\", 12)"
   ]
  },
  {
   "cell_type": "code",
   "execution_count": null,
   "metadata": {},
   "outputs": [],
   "source": [
    "saveDF3D(valSub, \"val\", 12)"
   ]
  },
  {
   "cell_type": "code",
   "execution_count": null,
   "metadata": {},
   "outputs": [],
   "source": [
    "saveDF3D(testSub, \"test\", 12)"
   ]
  },
  {
   "cell_type": "code",
   "execution_count": null,
   "metadata": {},
   "outputs": [],
   "source": []
  }
 ],
 "metadata": {
  "kernelspec": {
   "display_name": "Python 3",
   "language": "python",
   "name": "python3"
  },
  "language_info": {
   "codemirror_mode": {
    "name": "ipython",
    "version": 3
   },
   "file_extension": ".py",
   "mimetype": "text/x-python",
   "name": "python",
   "nbconvert_exporter": "python",
   "pygments_lexer": "ipython3",
   "version": "3.6.6"
  }
 },
 "nbformat": 4,
 "nbformat_minor": 2
}
