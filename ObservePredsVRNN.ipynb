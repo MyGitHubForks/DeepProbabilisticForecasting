{
 "cells": [
  {
   "cell_type": "code",
   "execution_count": 2,
   "metadata": {},
   "outputs": [],
   "source": [
    "import pandas as pd\n",
    "import numpy as np\n",
    "import torch\n",
    "import matplotlib.pyplot as plt"
   ]
  },
  {
   "cell_type": "code",
   "execution_count": 3,
   "metadata": {},
   "outputs": [],
   "source": [
    "baseDir = \"./save/server2Models/vrnn/vrnn1/\"\n",
    "# predsVT = torch.load(baseDir+\"validation_preds\", map_location=\"cpu\")\n",
    "# targetsVT = torch.load(baseDir+\"validation_targets\", map_location=\"cpu\")\n",
    "# inputsVT = torch.load(baseDir+\"validation_datas\", map_location=\"cpu\")\n",
    "# predsTT = torch.load(baseDir+\"train_preds\", map_location=\"cpu\")\n",
    "# targetsTT = torch.load(baseDir+\"train_targets\", map_location=\"cpu\")\n",
    "# inputsTT = torch.load(baseDir+\"train_datas\", map_location=\"cpu\")\n",
    "\n",
    "meansVT = torch.load(baseDir+\"validation_means\", map_location=\"cpu\")\n",
    "stdsVT = torch.load(baseDir+\"validation_stds\", map_location=\"cpu\")\n",
    "targetsVT = torch.load(baseDir+\"validation_targets\", map_location=\"cpu\")\n",
    "inputsVT = torch.load(baseDir+\"validation_datas\", map_location=\"cpu\")\n",
    "meansTT = torch.load(baseDir+\"train_means\", map_location=\"cpu\")\n",
    "stdsTT = torch.load(baseDir+\"train_stds\", map_location=\"cpu\")\n",
    "targetsTT = torch.load(baseDir+\"train_targets\", map_location=\"cpu\")\n",
    "inputsTT = torch.load(baseDir+\"train_datas\", map_location=\"cpu\")"
   ]
  },
  {
   "cell_type": "code",
   "execution_count": 4,
   "metadata": {},
   "outputs": [],
   "source": [
    "# predsT = np.concatenate(predsTT, axis=1)\n",
    "# targetsT = np.concatenate(targetsTT, axis=1)\n",
    "# datasT = np.concatenate(inputsTT, axis=1)\n",
    "\n",
    "# predsV = np.concatenate(predsVT, axis=1)\n",
    "# targetsV = np.concatenate(targetsVT, axis=1)\n",
    "# datasV = np.concatenate(inputsVT, axis=1)\n",
    "\n",
    "meansT = np.concatenate([p for p in meansTT], axis=1)\n",
    "stdsT = np.concatenate([p for p in stdsTT], axis=1)\n",
    "targetsT = np.concatenate([t for t in targetsTT], axis=1)\n",
    "datasT = np.concatenate([d for d in inputsTT], axis=1)\n",
    "\n",
    "meansV = np.concatenate([p for p in meansVT], axis=1)\n",
    "stdsV = np.concatenate([p for p in stdsVT], axis=1)\n",
    "targetsV = np.concatenate([t for t in targetsVT], axis=1)\n",
    "datasV = np.concatenate([d for d in inputsVT], axis=1)"
   ]
  },
  {
   "cell_type": "code",
   "execution_count": 5,
   "metadata": {},
   "outputs": [
    {
     "data": {
      "text/plain": [
       "(12, 2775, 207)"
      ]
     },
     "execution_count": 5,
     "metadata": {},
     "output_type": "execute_result"
    }
   ],
   "source": [
    "targetsV.shape"
   ]
  },
  {
   "cell_type": "code",
   "execution_count": 6,
   "metadata": {},
   "outputs": [
    {
     "data": {
      "text/plain": [
       "(12, 2775, 207)"
      ]
     },
     "execution_count": 6,
     "metadata": {},
     "output_type": "execute_result"
    }
   ],
   "source": [
    "datasV.shape"
   ]
  },
  {
   "cell_type": "code",
   "execution_count": 7,
   "metadata": {},
   "outputs": [
    {
     "data": {
      "text/plain": [
       "(12, 19203, 207)"
      ]
     },
     "execution_count": 7,
     "metadata": {},
     "output_type": "execute_result"
    }
   ],
   "source": [
    "datasT.shape"
   ]
  },
  {
   "cell_type": "code",
   "execution_count": 8,
   "metadata": {},
   "outputs": [
    {
     "data": {
      "text/plain": [
       "(12, 19203, 207)"
      ]
     },
     "execution_count": 8,
     "metadata": {},
     "output_type": "execute_result"
    }
   ],
   "source": [
    "targetsT.shape"
   ]
  },
  {
   "cell_type": "code",
   "execution_count": 9,
   "metadata": {},
   "outputs": [],
   "source": [
    "def plotRandomInstance(preds,targets, datas, dataset):\n",
    "    instance = np.random.randint(targets.shape[1])\n",
    "    sensor = np.random.randint(targets.shape[2])\n",
    "    p = preds[:, instance, sensor]\n",
    "    t = targets[:, instance, sensor]\n",
    "    d = datas[:,instance, sensor]\n",
    "    plt.plot(range(0,60, 5),p, label=\"Pred\")\n",
    "    #plt.fill_between(range(0,60, 5),m-1.96*std, m+1.96*std)\n",
    "    plt.plot(range(0,60, 5),t, label=\"target\")\n",
    "    plt.plot(range(-60,0, 5), d, label=\"input\")\n",
    "    plt.legend()\n",
    "    plt.xlabel(\"Minutes relative to prediction time\")\n",
    "    plt.ylabel(\"Speed (mph)\")\n",
    "    plt.title(\"random sensor sample {}\".format(dataset))\n",
    "    plt.show()"
   ]
  },
  {
   "cell_type": "code",
   "execution_count": 19,
   "metadata": {},
   "outputs": [],
   "source": [
    "def plotRandomInstanceVRNN(means, stds, targets, datas, dataset):\n",
    "    instance = np.random.randint(targets.shape[1])\n",
    "    sensor = np.random.randint(targets.shape[2])\n",
    "    m = means[:, instance, sensor]\n",
    "    std = stds[:, instance, sensor]\n",
    "    t = targets[:, instance, sensor]\n",
    "    d = datas[:,instance, sensor]\n",
    "    print(std)\n",
    "    plt.plot(range(0,60, 5),m, label=\"Pred\")\n",
    "    #plt.fill_between(range(0,60, 5),m-1.96*std, m+1.96*std)\n",
    "    plt.plot(range(0,60, 5),t, label=\"target\")\n",
    "    plt.plot(range(-60,0, 5), d, label=\"input\")\n",
    "    plt.legend()\n",
    "    plt.xlabel(\"Minutes relative to prediction time\")\n",
    "    plt.ylabel(\"Speed (mph)\")\n",
    "    plt.title(\"random sensor sample {}\".format(dataset))\n",
    "    plt.show()"
   ]
  },
  {
   "cell_type": "code",
   "execution_count": 73,
   "metadata": {},
   "outputs": [
    {
     "name": "stdout",
     "output_type": "stream",
     "text": [
      "[54.5084   54.43755  54.438244 54.43821  54.4275   54.419384 54.41828\n",
      " 54.41814  54.41799  54.417984 54.417934 54.417866]\n"
     ]
    },
    {
     "data": {
      "image/png": "[encoded data removed]",
      "text/plain": [
       "<Figure size 432x288 with 1 Axes>"
      ]
     },
     "metadata": {
      "needs_background": "light"
     },
     "output_type": "display_data"
    }
   ],
   "source": [
    "plotRandomInstanceVRNN(meansT,stdsT, targetsT, datasT, \"Train\")"
   ]
  },
  {
   "cell_type": "code",
   "execution_count": 77,
   "metadata": {},
   "outputs": [
    {
     "name": "stdout",
     "output_type": "stream",
     "text": [
      "[55.11213  54.99232  54.989758 54.989628 54.989395 54.989376 54.989372\n",
      " 54.98938  54.989376 54.98934  54.98926  54.989323]\n"
     ]
    },
    {
     "data": {
      "image/png": "[encoded data removed]",
      "text/plain": [
       "<Figure size 432x288 with 1 Axes>"
      ]
     },
     "metadata": {
      "needs_background": "light"
     },
     "output_type": "display_data"
    }
   ],
   "source": [
    "plotRandomInstanceVRNN(meansV, stdsV, targetsV, datasV, \"Validation\")"
   ]
  },
  {
   "cell_type": "code",
   "execution_count": null,
   "metadata": {},
   "outputs": [],
   "source": []
  }
 ],
 "metadata": {
  "kernelspec": {
   "display_name": "Python 3",
   "language": "python",
   "name": "python3"
  },
  "language_info": {
   "codemirror_mode": {
    "name": "ipython",
    "version": 3
   },
   "file_extension": ".py",
   "mimetype": "text/x-python",
   "name": "python",
   "nbconvert_exporter": "python",
   "pygments_lexer": "ipython3",
   "version": "3.6.6"
  }
 },
 "nbformat": 4,
 "nbformat_minor": 2
}
